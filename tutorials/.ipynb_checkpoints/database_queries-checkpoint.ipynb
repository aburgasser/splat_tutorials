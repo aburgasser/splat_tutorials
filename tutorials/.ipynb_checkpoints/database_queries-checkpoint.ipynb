{
 "cells": [
  {
   "cell_type": "markdown",
   "metadata": {},
   "source": [
    "# SPLAT Tutorials: Querying Online Datasets\n",
    "\n",
    "## Authors\n",
    "Adam Burgasser\n",
    "\n",
    "## Version date\n",
    "22 February 2022\n",
    "\n",
    "## Learning Goals\n",
    "* Understanding basic SPLAT database management tools\n",
    "* Query common catalogs with queryVizier and queryXMatch\n",
    "* Query specialty/individual publication catalogs with queryVizier and queryXMatch\n",
    "\n",
    "## Keywords\n",
    "online databases, data management, data query tools\n",
    "\n",
    "## Companion Content\n",
    "dataset: terrien2015_designations.csv\n",
    "\n",
    "## Summary\n",
    "In this tutorial, we are going to see how we identify information on our sources by querying online databases using SPLAT's queryVizier() and queryXMatch() tools, which are wrappers of the Astropy astroquery affiliated package (Ginsberg et al. 2019, AJ 157, 98: https://ui.adsabs.harvard.edu/abs/2019AJ....157...98G/abstract)\n",
    "\n",
    "## Required packages\n",
    "* astropy: included in anaconda python installation; see https://www.astropy.org/ \n",
    "* astroquery: see https://astroquery.readthedocs.io/en/latest/\n",
    "* pandas: included in anaconda python installation; see https://pandas.pydata.org/getting_started.html \n"
   ]
  },
  {
   "cell_type": "code",
   "execution_count": 3,
   "metadata": {},
   "outputs": [
    {
     "name": "stdout",
     "output_type": "stream",
     "text": [
      "2022.01.18\n",
      "0.4.1\n"
     ]
    }
   ],
   "source": [
    "# main splat import\n",
    "import splat\n",
    "import splat.database as spdb\n",
    "\n",
    "# other useful imports\n",
    "import numpy as np\n",
    "import pandas\n",
    "import astropy.units as u\n",
    "import astroquery\n",
    "\n",
    "# check versions\n",
    "print(splat.initialize.__version__)\n",
    "print(astroquery.__version__)"
   ]
  },
  {
   "cell_type": "code",
   "execution_count": null,
   "metadata": {},
   "outputs": [],
   "source": []
  },
  {
   "cell_type": "markdown",
   "metadata": {},
   "source": [
    "# Selecting sets of spectra\n",
    "\n",
    "Here we're going to see how we select sets of spectra using splat.searchLibrary(). It is generally faster to read in a spreadsheet of the sources you are interested in before you actually read in the spectral data. We're going to see a couple of ways of selecting subsets of spectra"
   ]
  },
  {
   "cell_type": "code",
   "execution_count": 2,
   "metadata": {},
   "outputs": [
    {
     "data": {
      "text/plain": [
       "'2022.01.18'"
      ]
     },
     "execution_count": 2,
     "metadata": {},
     "output_type": "execute_result"
    }
   ],
   "source": [
    "splat.initialize.__version__"
   ]
  },
  {
   "cell_type": "code",
   "execution_count": null,
   "metadata": {},
   "outputs": [],
   "source": []
  },
  {
   "cell_type": "code",
   "execution_count": null,
   "metadata": {},
   "outputs": [],
   "source": [
    "splat.searchLibrary?"
   ]
  },
  {
   "cell_type": "code",
   "execution_count": null,
   "metadata": {},
   "outputs": [],
   "source": [
    "# selecting by spectral type\n",
    "dp = splat.searchLibrary(spt='T5')\n",
    "dp"
   ]
  },
  {
   "cell_type": "code",
   "execution_count": null,
   "metadata": {},
   "outputs": [],
   "source": [
    "# selecting by spectral type range\n",
    "dp = splat.searchLibrary(spt=['L5','L8'])\n",
    "dp"
   ]
  },
  {
   "cell_type": "code",
   "execution_count": null,
   "metadata": {},
   "outputs": [],
   "source": [
    "# selecting by spectral type range and signal-to-noise (value given is minimum S/N)\n",
    "dp = splat.searchLibrary(spt=['L5','L8'],snr=50)\n",
    "dp"
   ]
  },
  {
   "cell_type": "code",
   "execution_count": null,
   "metadata": {},
   "outputs": [],
   "source": [
    "# selecting by OPTICAL spectral type range and signal-to-noise (value given is minimum S/N)\n",
    "dp = splat.searchLibrary(opt_spt=['L5','L8'],snr=50)\n",
    "dp"
   ]
  },
  {
   "cell_type": "code",
   "execution_count": null,
   "metadata": {},
   "outputs": [],
   "source": [
    "# select young L dwarfs\n",
    "dp = splat.searchLibrary(opt_spt=['L0','L9'],young=True)\n",
    "dp"
   ]
  },
  {
   "cell_type": "code",
   "execution_count": null,
   "metadata": {},
   "outputs": [],
   "source": [
    "# select metal-poor L dwarfs\n",
    "dp = splat.searchLibrary(opt_spt=['L0','L9'],subdwarf=True)\n",
    "dp"
   ]
  },
  {
   "cell_type": "code",
   "execution_count": null,
   "metadata": {},
   "outputs": [],
   "source": [
    "# select giants\n",
    "dp = splat.searchLibrary(giant=True)\n",
    "dp"
   ]
  },
  {
   "cell_type": "markdown",
   "metadata": {},
   "source": [
    "# Reading in the spectra\n",
    "\n",
    "Once you've identified the spectra you want, you can read them in based on the spreadsheet info or splat.getSpectrum(). Be sure you have a manageable list!"
   ]
  },
  {
   "cell_type": "code",
   "execution_count": null,
   "metadata": {},
   "outputs": [],
   "source": [
    "# select metal-poor L dwarfs\n",
    "# then read in using the data key\n",
    "dp = splat.searchLibrary(opt_spt=['L0','L9'],subdwarf=True)\n",
    "splist = []\n",
    "for i in dp['DATA_KEY']:\n",
    "    splist.append(splat.Spectrum(i))\n",
    "    print('Read in spectrum of {}'.format(splist[-1].name))\n",
    "splist"
   ]
  },
  {
   "cell_type": "code",
   "execution_count": null,
   "metadata": {},
   "outputs": [],
   "source": [
    "# do the same but read in by filename\n",
    "dp = splat.searchLibrary(opt_spt=['L0','L9'],subdwarf=True)\n",
    "splist = []\n",
    "for f in dp['DATA_FILE']:\n",
    "    splist.append(splat.Spectrum(file=f))\n",
    "    print('Read in spectrum of {}'.format(splist[-1].name))\n",
    "splist"
   ]
  },
  {
   "cell_type": "code",
   "execution_count": null,
   "metadata": {},
   "outputs": [],
   "source": [
    "# the same syntax can be used to read in a list of spectra using splat.getSpectrum()\n",
    "splist = splat.getSpectrum(opt_spt=['L0','L9'],subdwarf=True)\n",
    "splist"
   ]
  },
  {
   "cell_type": "markdown",
   "metadata": {},
   "source": [
    "# Measurements on samples of spectra\n",
    "\n",
    "We can add measurements to the pandas spreadsheet created by searchLibrary(), a convenient way to manage and save analyses"
   ]
  },
  {
   "cell_type": "code",
   "execution_count": null,
   "metadata": {},
   "outputs": [],
   "source": [
    "# let's measure the classifications of our sources\n",
    "dp = splat.searchLibrary(opt_spt=['L0','L9'],subdwarf=True)\n",
    "dp['SPEX_SPT'] = ['']*len(dp)\n",
    "# note the use of enumerate here\n",
    "for i,f in enumerate(dp['DATA_FILE']):\n",
    "    sp = splat.Spectrum(file=f)\n",
    "    spt,spt_e = splat.classifyByStandard(sp,method='kirkpatrick')\n",
    "    dp['SPEX_SPT'].iloc[i] = spt\n",
    "dp['SPEX_SPT']"
   ]
  },
  {
   "cell_type": "code",
   "execution_count": null,
   "metadata": {},
   "outputs": [],
   "source": [
    "# another way of doing this\n",
    "dp = splat.searchLibrary(opt_spt=['L0','L9'],subdwarf=True)\n",
    "spts = []\n",
    "# note the use of enumerate here\n",
    "for i,f in enumerate(dp['DATA_FILE']):\n",
    "    sp = splat.Spectrum(file=f)\n",
    "    spts.append(splat.classifyByStandard(sp,method='kirkpatrick')[0])\n",
    "dp['SPEX_SPT'] = spts\n",
    "dp['SPEX_SPT']"
   ]
  },
  {
   "cell_type": "code",
   "execution_count": null,
   "metadata": {},
   "outputs": [],
   "source": [
    "# here's how you can measure many indices on the spectra and store them to your pandas dataframe\n",
    "dp = splat.searchLibrary(opt_spt=['L0','L9'],subdwarf=True)\n",
    "\n",
    "# first figure out what indices we're measuring\n",
    "# the names of the indices are in the keys\n",
    "sp = splat.Spectrum(file=dp['DATA_FILE'].iloc[0])\n",
    "ind = splat.measureIndexSet(sp)\n",
    "indices = ind.keys()\n",
    "\n",
    "# add these to the dataframe\n",
    "for i in indices: dp[i] = np.zeros(len(dp))\n",
    "    \n",
    "# now measure all of the spectra\n",
    "for i,f in enumerate(dp['DATA_FILE']):\n",
    "    sp = splat.Spectrum(file=f)\n",
    "    ind = splat.measureIndexSet(sp)\n",
    "    for indname in indices: dp[indname].iloc[i]=ind[indname][0]\n",
    "\n",
    "# print out the values you've measureed\n",
    "dp[indices]\n"
   ]
  },
  {
   "cell_type": "markdown",
   "metadata": {},
   "source": [
    "# Plotting batches of spectra\n",
    "\n",
    "Here's some examples of plotting samples of spectra using either plotSpectrum() or plotBatch(); you can see more examples at this page: https://spl-toolkit.readthedocs.io/en/latest/splat_plot/ "
   ]
  },
  {
   "cell_type": "code",
   "execution_count": null,
   "metadata": {},
   "outputs": [],
   "source": [
    "# learn more about these functions\n",
    "splot.plotSpectrum?"
   ]
  },
  {
   "cell_type": "code",
   "execution_count": null,
   "metadata": {},
   "outputs": [],
   "source": [
    "# learn more about these functions\n",
    "splot.plotBatch?"
   ]
  },
  {
   "cell_type": "code",
   "execution_count": null,
   "metadata": {},
   "outputs": [],
   "source": [
    "# read in batch of spectra\n",
    "splist = splat.getSpectrum(opt_spt=['L0','L9'],subdwarf=True)"
   ]
  },
  {
   "cell_type": "code",
   "execution_count": null,
   "metadata": {},
   "outputs": [],
   "source": [
    "# now plot them all using plotSpectrum with the multiplot option\n",
    "splot.plotSpectrum(splist,multiplot=True)"
   ]
  },
  {
   "cell_type": "code",
   "execution_count": null,
   "metadata": {},
   "outputs": [],
   "source": [
    "# let's clean this up a bit by making a 2x2 grid\n",
    "splot.plotSpectrum(splist,multiplot=True,layout=[2,2])"
   ]
  },
  {
   "cell_type": "code",
   "execution_count": null,
   "metadata": {},
   "outputs": [],
   "source": [
    "# the normalization is not so great here, so lets first normalize the spectra in a certain range\n",
    "# and then set the y-axis range\n",
    "for sp in splist: sp.normalize([0.9,1.4])\n",
    "splot.plotSpectrum(splist,multiplot=True,layout=[2,2],yrange=[-0.05,1.2])"
   ]
  },
  {
   "cell_type": "code",
   "execution_count": null,
   "metadata": {},
   "outputs": [],
   "source": [
    "# now let's add some details, including the legend giving the name of the source\n",
    "# and labeling L dwarf features; we'll also save this out as a multi-page pdf file\n",
    "names = [sp.name for sp in splist]\n",
    "splot.plotSpectrum(splist,multiplot=True,layout=[2,2],yrange=[-0.05,1.2],legend=names,features=['h2o','feh','co'],telluric=True,grid=True,multipage=True,file='myplot.pdf')\n"
   ]
  },
  {
   "cell_type": "code",
   "execution_count": null,
   "metadata": {},
   "outputs": [],
   "source": [
    "# plotBatch does many of these tasks in a compact way; here's the baseline call\n",
    "splot.plotBatch(splist)\n"
   ]
  },
  {
   "cell_type": "code",
   "execution_count": null,
   "metadata": {},
   "outputs": [],
   "source": [
    "# now with the same options as before\n",
    "# NOTE: ignore the warning messages here\n",
    "splot.plotBatch(splist,features=['h2o','feh','co'],telluric=True,grid=True,yrange=[-0.05,1.2],output='myplot.pdf')\n"
   ]
  },
  {
   "cell_type": "code",
   "execution_count": null,
   "metadata": {},
   "outputs": [],
   "source": [
    "# plotBatch has a nice feature in that it can automatically classify spectra\n",
    "# NOTE: the scaling on this doesn't seem to be working properly right now!\n",
    "splot.plotBatch(splist,classify=True,normalize=True)\n"
   ]
  },
  {
   "cell_type": "code",
   "execution_count": null,
   "metadata": {},
   "outputs": [],
   "source": [
    "# here's an example of comparing all of our sources to one particular comparison source, the sdL0.0 standard\n",
    "# The subdwarf standards are contained in the splat.STDS_SD_SPEX variable\n",
    "comptype = 'sdL0.0'\n",
    "spcomp = splat.STDS_SD_SPEX[comptype]\n",
    "spcomp.normalize([0.9,1.4])\n",
    "names = ['{} vs {}'.format(sp.name,comptype) for sp in splist]\n",
    "\n",
    "splot.plotSpectrum(splist,multiplot=True,layout=[2,2],yrange=[-0.05,1.2],legend=names,comparison=spcomp,colorComparison='r')\n"
   ]
  }
 ],
 "metadata": {
  "kernelspec": {
   "display_name": "Python 3",
   "language": "python",
   "name": "python3"
  },
  "language_info": {
   "codemirror_mode": {
    "name": "ipython",
    "version": 3
   },
   "file_extension": ".py",
   "mimetype": "text/x-python",
   "name": "python",
   "nbconvert_exporter": "python",
   "pygments_lexer": "ipython3",
   "version": "3.7.7"
  }
 },
 "nbformat": 4,
 "nbformat_minor": 2
}
