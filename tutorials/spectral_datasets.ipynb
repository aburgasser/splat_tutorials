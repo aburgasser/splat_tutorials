{
 "cells": [
  {
   "cell_type": "markdown",
   "metadata": {},
   "source": [
    "# SPLAT Tutorials: Working with Spectral Datasets\n",
    "\n",
    "## Authors\n",
    "Adam Burgasser\n",
    "\n",
    "## Version date\n",
    "14 July 2021\n",
    "\n",
    "## Learning Goals\n",
    "* Select sets of spectra from the SPLAT library (splat.searchLibrary)\n",
    "* Analyze these sets together (splat.classifyByStandard, splat.measureIndexSet)\n",
    "* Plot batches of spectra (splat.plot.plotSpectrum, splat.plot.plotBatch) \n",
    "\n",
    "## Keywords\n",
    "spectral archive, spectral analysis, indices, classification\n",
    "\n",
    "## Companion Content\n",
    "None\n",
    "\n",
    "## Summary\n",
    "In this tutorial, we are going to see how we can select subsets of spectra from the SPLAT library for analysis, and conduct some basic analyses that we save to spreadsheets.\n"
   ]
  },
  {
   "cell_type": "code",
   "execution_count": 1,
   "metadata": {},
   "outputs": [
    {
     "name": "stdout",
     "output_type": "stream",
     "text": [
      "Adding 218 sources from /Users/adam/projects/splat/Spectra/LDSS-3/spectra/ to spectral database\n",
      "Adding 89 sources from /Users/adam/projects/splat/code/splat//resources/Spectra/Public/MAGE/ to spectral database\n",
      "Adding 2404 sources from /Users/adam/projects/splat/code/splat//resources/Spectra/Public/SPEX-PRISM/ to spectral database\n",
      "Adding 1051 sources from /Users/adam/projects/splat/Spectra/SPEX_PRISM/ to spectral database\n",
      "Adding 44 sources from /Users/adam/projects/splat/Spectra/Mann2014/spectra/ to spectral database\n",
      "Adding 145 sources from /Users/adam/projects/splat/code/splat//resources/Spectra/Public/LRIS-RED/ to spectral database\n",
      "Adding 893 sources from /Users/adam/projects/splat/Spectra/Terrien2015/spectra/ to spectral database\n",
      "Adding 32 sources from /Users/adam/projects/splat/Spectra/LRIS/ to spectral database\n",
      "Dropped 404 duplicates; 4472 remaining\n"
     ]
    }
   ],
   "source": [
    "# main splat import\n",
    "import splat\n",
    "import splat.plot as splot\n",
    "\n",
    "# other useful imports\n",
    "import matplotlib.pyplot as plt\n",
    "import numpy as np\n",
    "import pandas\n",
    "import astropy.units as u"
   ]
  },
  {
   "cell_type": "markdown",
   "metadata": {},
   "source": [
    "# Selecting sets of spectra\n",
    "\n",
    "Here we're going to see how we select sets of spectra using splat.searchLibrary(). It is generally faster to read in a spreadsheet of the sources you are interested in before you actually read in the spectral data. We're going to see a couple of ways of selecting subsets of spectra"
   ]
  },
  {
   "cell_type": "code",
   "execution_count": null,
   "metadata": {},
   "outputs": [],
   "source": [
    "splat.searchLibrary?"
   ]
  },
  {
   "cell_type": "code",
   "execution_count": null,
   "metadata": {},
   "outputs": [],
   "source": [
    "# selecting by spectral type\n",
    "dp = splat.searchLibrary(spt='T5')\n",
    "dp"
   ]
  },
  {
   "cell_type": "code",
   "execution_count": null,
   "metadata": {},
   "outputs": [],
   "source": [
    "# selecting by spectral type range\n",
    "dp = splat.searchLibrary(spt=['L5','L8'])\n",
    "dp"
   ]
  },
  {
   "cell_type": "code",
   "execution_count": null,
   "metadata": {},
   "outputs": [],
   "source": [
    "# selecting by spectral type range and signal-to-noise (value given is minimum S/N)\n",
    "dp = splat.searchLibrary(spt=['L5','L8'],snr=50)\n",
    "dp"
   ]
  },
  {
   "cell_type": "code",
   "execution_count": null,
   "metadata": {},
   "outputs": [],
   "source": [
    "# selecting by OPTICAL spectral type range and signal-to-noise (value given is minimum S/N)\n",
    "dp = splat.searchLibrary(opt_spt=['L5','L8'],snr=50)\n",
    "dp"
   ]
  },
  {
   "cell_type": "code",
   "execution_count": null,
   "metadata": {},
   "outputs": [],
   "source": [
    "# select young L dwarfs\n",
    "dp = splat.searchLibrary(opt_spt=['L0','L9'],young=True)\n",
    "dp"
   ]
  },
  {
   "cell_type": "code",
   "execution_count": null,
   "metadata": {},
   "outputs": [],
   "source": [
    "# select metal-poor L dwarfs\n",
    "dp = splat.searchLibrary(opt_spt=['L0','L9'],subdwarf=True)\n",
    "dp"
   ]
  },
  {
   "cell_type": "code",
   "execution_count": null,
   "metadata": {},
   "outputs": [],
   "source": [
    "# select giants\n",
    "dp = splat.searchLibrary(giant=True)\n",
    "dp"
   ]
  },
  {
   "cell_type": "markdown",
   "metadata": {},
   "source": [
    "# Reading in the spectra\n",
    "\n",
    "Once you've identified the spectra you want, you can read them in based on the spreadsheet info or splat.getSpectrum(). Be sure you have a manageable list!"
   ]
  },
  {
   "cell_type": "code",
   "execution_count": null,
   "metadata": {},
   "outputs": [],
   "source": [
    "# select metal-poor L dwarfs\n",
    "# then read in using the data key\n",
    "dp = splat.searchLibrary(opt_spt=['L0','L9'],subdwarf=True)\n",
    "splist = []\n",
    "for i in dp['DATA_KEY']:\n",
    "    splist.append(splat.Spectrum(i))\n",
    "    print('Read in spectrum of {}'.format(splist[-1].name))\n",
    "splist"
   ]
  },
  {
   "cell_type": "code",
   "execution_count": null,
   "metadata": {},
   "outputs": [],
   "source": [
    "# do the same but read in by filename\n",
    "dp = splat.searchLibrary(opt_spt=['L0','L9'],subdwarf=True)\n",
    "splist = []\n",
    "for f in dp['DATA_FILE']:\n",
    "    splist.append(splat.Spectrum(file=f))\n",
    "    print('Read in spectrum of {}'.format(splist[-1].name))\n",
    "splist"
   ]
  },
  {
   "cell_type": "code",
   "execution_count": null,
   "metadata": {},
   "outputs": [],
   "source": [
    "# the same syntax can be used to read in a list of spectra using splat.getSpectrum()\n",
    "splist = splat.getSpectrum(opt_spt=['L0','L9'],subdwarf=True)\n",
    "splist"
   ]
  },
  {
   "cell_type": "markdown",
   "metadata": {},
   "source": [
    "# Measurements on samples of spectra\n",
    "\n",
    "We can add measurements to the pandas spreadsheet created by searchLibrary(), a convenient way to manage and save analyses"
   ]
  },
  {
   "cell_type": "code",
   "execution_count": null,
   "metadata": {},
   "outputs": [],
   "source": [
    "# let's measure the classifications of our sources\n",
    "dp = splat.searchLibrary(opt_spt=['L0','L9'],subdwarf=True)\n",
    "dp['SPEX_SPT'] = ['']*len(dp)\n",
    "# note the use of enumerate here\n",
    "for i,f in enumerate(dp['DATA_FILE']):\n",
    "    sp = splat.Spectrum(file=f)\n",
    "    spt,spt_e = splat.classifyByStandard(sp,method='kirkpatrick')\n",
    "    dp['SPEX_SPT'].iloc[i] = spt\n",
    "dp['SPEX_SPT']"
   ]
  },
  {
   "cell_type": "code",
   "execution_count": null,
   "metadata": {},
   "outputs": [],
   "source": [
    "# another way of doing this\n",
    "dp = splat.searchLibrary(opt_spt=['L0','L9'],subdwarf=True)\n",
    "spts = []\n",
    "# note the use of enumerate here\n",
    "for i,f in enumerate(dp['DATA_FILE']):\n",
    "    sp = splat.Spectrum(file=f)\n",
    "    spts.append(splat.classifyByStandard(sp,method='kirkpatrick')[0])\n",
    "dp['SPEX_SPT'] = spts\n",
    "dp['SPEX_SPT']"
   ]
  },
  {
   "cell_type": "code",
   "execution_count": null,
   "metadata": {},
   "outputs": [],
   "source": [
    "# here's how you can measure many indices on the spectra and store them to your pandas dataframe\n",
    "dp = splat.searchLibrary(opt_spt=['L0','L9'],subdwarf=True)\n",
    "\n",
    "# first figure out what indices we're measuring\n",
    "# the names of the indices are in the keys\n",
    "sp = splat.Spectrum(file=dp['DATA_FILE'].iloc[0])\n",
    "ind = splat.measureIndexSet(sp)\n",
    "indices = ind.keys()\n",
    "\n",
    "# add these to the dataframe\n",
    "for i in indices: dp[i] = np.zeros(len(dp))\n",
    "    \n",
    "# now measure all of the spectra\n",
    "for i,f in enumerate(dp['DATA_FILE']):\n",
    "    sp = splat.Spectrum(file=f)\n",
    "    ind = splat.measureIndexSet(sp)\n",
    "    for indname in indices: dp[indname].iloc[i]=ind[indname][0]\n",
    "\n",
    "# print out the values you've measureed\n",
    "dp[indices]\n"
   ]
  },
  {
   "cell_type": "markdown",
   "metadata": {},
   "source": [
    "# Plotting batches of spectra\n",
    "\n",
    "Here's some examples of plotting samples of spectra using either plotSpectrum() or plotBatch(); you can see more examples at this page: https://spl-toolkit.readthedocs.io/en/latest/splat_plot/ "
   ]
  },
  {
   "cell_type": "code",
   "execution_count": null,
   "metadata": {},
   "outputs": [],
   "source": [
    "# learn more about these functions\n",
    "splot.plotSpectrum?"
   ]
  },
  {
   "cell_type": "code",
   "execution_count": null,
   "metadata": {},
   "outputs": [],
   "source": [
    "# learn more about these functions\n",
    "splot.plotBatch?"
   ]
  },
  {
   "cell_type": "code",
   "execution_count": null,
   "metadata": {},
   "outputs": [
    {
     "name": "stdout",
     "output_type": "stream",
     "text": [
      "\n",
      "Retrieving 9 files\n",
      "\n"
     ]
    }
   ],
   "source": [
    "# read in batch of spectra\n",
    "splist = splat.getSpectrum(opt_spt=['L0','L9'],subdwarf=True)"
   ]
  },
  {
   "cell_type": "code",
   "execution_count": null,
   "metadata": {},
   "outputs": [],
   "source": [
    "# now plot them all using plotSpectrum with the multiplot option\n",
    "splot.plotSpectrum(splist,multiplot=True)"
   ]
  },
  {
   "cell_type": "code",
   "execution_count": null,
   "metadata": {},
   "outputs": [],
   "source": [
    "# let's clean this up a bit by making a 2x2 grid\n",
    "splot.plotSpectrum(splist,multiplot=True,layout=[2,2])"
   ]
  },
  {
   "cell_type": "code",
   "execution_count": null,
   "metadata": {},
   "outputs": [],
   "source": [
    "# the normalization is not so great here, so lets first normalize the spectra in a certain range\n",
    "# and then set the y-axis range\n",
    "for sp in splist: sp.normalize([0.9,1.4])\n",
    "splot.plotSpectrum(splist,multiplot=True,layout=[2,2],yrange=[-0.05,1.2])"
   ]
  },
  {
   "cell_type": "code",
   "execution_count": null,
   "metadata": {},
   "outputs": [],
   "source": [
    "# now let's add some details, including the legend giving the name of the source\n",
    "# and labeling L dwarf features; we'll also save this out as a multi-page pdf file\n",
    "names = [sp.name for sp in splist]\n",
    "splot.plotSpectrum(splist,multiplot=True,layout=[2,2],yrange=[-0.05,1.2],legend=names,features=['h2o','feh','co'],telluric=True,grid=True,multipage=True,file='myplot.pdf')\n"
   ]
  },
  {
   "cell_type": "code",
   "execution_count": null,
   "metadata": {},
   "outputs": [],
   "source": [
    "# plotBatch does many of these tasks in a compact way; here's the baseline call\n",
    "splot.plotBatch(splist)\n"
   ]
  },
  {
   "cell_type": "code",
   "execution_count": null,
   "metadata": {},
   "outputs": [],
   "source": [
    "# now with the same options as before\n",
    "# NOTE: ignore the warning messages here\n",
    "splot.plotBatch(splist,features=['h2o','feh','co'],telluric=True,grid=True,yrange=[-0.05,1.2],output='myplot.pdf')\n"
   ]
  },
  {
   "cell_type": "code",
   "execution_count": null,
   "metadata": {},
   "outputs": [],
   "source": [
    "# plotBatch has a nice feature in that it can automatically classify spectra\n",
    "# NOTE: the scaling on this doesn't seem to be working properly right now!\n",
    "splot.plotBatch(splist,classify=True,normalize=True)\n"
   ]
  },
  {
   "cell_type": "code",
   "execution_count": null,
   "metadata": {},
   "outputs": [],
   "source": [
    "# here's an example of comparing all of our sources to one particular comparison source, the sdL0.0 standard\n",
    "# The subdwarf standards are contained in the splat.STDS_SD_SPEX variable\n",
    "comptype = 'sdL0.0'\n",
    "spcomp = splat.STDS_SD_SPEX[comptype]\n",
    "spcomp.normalize([0.9,1.4])\n",
    "names = ['{} vs {}'.format(sp.name,comptype) for sp in splist]\n",
    "\n",
    "splot.plotSpectrum(splist,multiplot=True,layout=[2,2],yrange=[-0.05,1.2],legend=names,comparison=spcomp,colorComparison='r')\n"
   ]
  },
  {
   "cell_type": "code",
   "execution_count": null,
   "metadata": {},
   "outputs": [],
   "source": [
    "# we can also do this"
   ]
  },
  {
   "cell_type": "code",
   "execution_count": null,
   "metadata": {},
   "outputs": [],
   "source": [
    "# or you can plot a pre-defined set of features\n",
    "sp.plot(ldwarf=True)"
   ]
  },
  {
   "cell_type": "code",
   "execution_count": null,
   "metadata": {},
   "outputs": [],
   "source": [
    "# you can save you figure to .pdf or .png files\n",
    "sp.plot(ldwarf=True,telluric=True,output='MyPlot.pdf')"
   ]
  },
  {
   "cell_type": "code",
   "execution_count": null,
   "metadata": {},
   "outputs": [],
   "source": [
    "# you can also plot a set of spectra using splat.plot.plotSpectrum commands\n",
    "# this sequence reads in all of the TWA30B spectrum, normalizes them, and\n",
    "# saves the file as a PDF file in your directory\n",
    "splist = splat.getSpectrum(name = 'TWA 30B') # get all 20 spectra of TWA 30B\n",
    "for sp in splist: sp.normalize([1.0,1.5])    # normalize the spectra\n",
    "legend = [sp.date for sp in splist]          # assigned legends to correspond to the observing dates\n",
    "splot.plotSpectrum(splist,multiplot=True,layout=[2,2],multipage=True,legend=legend,yrange=[0,1.2],output='TWA30B.pdf')\n"
   ]
  },
  {
   "cell_type": "markdown",
   "metadata": {},
   "source": [
    "# Spectrum manipulation\n",
    "\n",
    "There are many built-in features for manipulating a spectrum object"
   ]
  },
  {
   "cell_type": "code",
   "execution_count": null,
   "metadata": {},
   "outputs": [],
   "source": [
    "# grab a random T5 dwarf\n",
    "sp = splat.getSpectrum(spt='T5', lucky=True)[0]\n",
    "sp.plot(tdwarf=True)"
   ]
  },
  {
   "cell_type": "code",
   "execution_count": null,
   "metadata": {},
   "outputs": [],
   "source": [
    "# normalize the spectrum to maximum value\n",
    "sp.normalize()\n",
    "sp.plot()"
   ]
  },
  {
   "cell_type": "code",
   "execution_count": null,
   "metadata": {},
   "outputs": [],
   "source": [
    "# normalize over a specific region\n",
    "sp.normalize([1.5,1.7])\n",
    "sp.plot()"
   ]
  },
  {
   "cell_type": "code",
   "execution_count": null,
   "metadata": {},
   "outputs": [],
   "source": [
    "# multiple by a scale factor\n",
    "sp.scale(50)\n",
    "sp.plot()"
   ]
  },
  {
   "cell_type": "code",
   "execution_count": null,
   "metadata": {},
   "outputs": [],
   "source": [
    "# flux calibrate the spectrum using a photometric magnitude\n",
    "# form SpeX prism spectra these should be filters in the 1-2.5 micron range\n",
    "# such as 2MASS JHKs, UKIDSS JHK, HST F110W/F160W, etc.\n",
    "sp.fluxCalibrate('2MASS J',14.5,absolute=True)  # the \"absolute\" flag indicates this is an absolute magnitude\n",
    "sp.plot()"
   ]
  },
  {
   "cell_type": "code",
   "execution_count": null,
   "metadata": {},
   "outputs": [],
   "source": [
    "# trim the edges\n",
    "sp.trim([0.9,2.3])\n",
    "sp.plot(telluric=True)"
   ]
  },
  {
   "cell_type": "code",
   "execution_count": null,
   "metadata": {},
   "outputs": [],
   "source": [
    "# mask part of the spectrum\n",
    "sp.maskFlux([1.8,2.0])\n",
    "sp.plot()"
   ]
  },
  {
   "cell_type": "code",
   "execution_count": null,
   "metadata": {},
   "outputs": [],
   "source": [
    "# change the wavelength units\n",
    "sp.toWaveUnit(u.Angstrom)\n",
    "sp.plot()"
   ]
  },
  {
   "cell_type": "code",
   "execution_count": null,
   "metadata": {},
   "outputs": [],
   "source": [
    "# change the flux units\n",
    "sp.toFluxUnit(u.W/u.m/u.m/u.Angstrom)\n",
    "sp.plot()"
   ]
  },
  {
   "cell_type": "code",
   "execution_count": null,
   "metadata": {},
   "outputs": [],
   "source": [
    "# reset all your changes to go back to the original spectrum\n",
    "sp.reset()\n",
    "sp.plot()"
   ]
  },
  {
   "cell_type": "markdown",
   "metadata": {},
   "source": [
    "# Spectral Math\n",
    "\n",
    "The Spectrum object takes care of all of the necessary math steps to add, subtract, multiply and divide spectra"
   ]
  },
  {
   "cell_type": "code",
   "execution_count": null,
   "metadata": {},
   "outputs": [],
   "source": [
    "# read in two M-type spectra, normalize them and add them together\n",
    "sp1 = splat.getSpectrum(spt=['M5','M9'],lucky=True)[0]\n",
    "sp2 = splat.getSpectrum(spt=['M5','M9'],lucky=True)[0]\n",
    "sp1.normalize()\n",
    "sp2.normalize()\n",
    "\n",
    "# add together\n",
    "sp3 = sp1+sp2\n",
    "\n",
    "# plot this up using matplotlib\n",
    "plt.plot(sp1.wave,sp1.flux,'b-')\n",
    "plt.plot(sp2.wave,sp2.flux,'g-')\n",
    "plt.plot(sp3.wave,sp3.flux,'k-')\n",
    "plt.legend([sp1.name,sp2.name,'Sum'])\n",
    "plt.ylim([0,2.2])\n",
    "plt.xlim([0.8,2.4])\n",
    "plt.xlabel('Wavelength (micron)')\n",
    "plt.ylabel('Normalized Flux Density')\n"
   ]
  },
  {
   "cell_type": "code",
   "execution_count": null,
   "metadata": {},
   "outputs": [],
   "source": [
    "sp3.plot()"
   ]
  },
  {
   "cell_type": "code",
   "execution_count": null,
   "metadata": {},
   "outputs": [],
   "source": [
    "# read in two M7 spectra, normalize them and subtract them to see differences\n",
    "sp1 = splat.getSpectrum(spt='M7',lucky=True)[0]\n",
    "sp2 = splat.getSpectrum(spt='M7',lucky=True)[0]\n",
    "#sp1.normalize()\n",
    "#sp2.normalize()\n",
    "\n",
    "# subtract\n",
    "sp3 = sp1-sp2\n",
    "\n",
    "# plot the individual spectra and their difference in two panels\n",
    "plt.subplot(211)\n",
    "plt.plot(sp1.wave,sp1.flux,'b-')\n",
    "plt.plot(sp2.wave,sp2.flux,'g-')\n",
    "#plt.ylim([0,1.2])\n",
    "plt.xlim([0.8,2.4])\n",
    "plt.ylabel('Normalized Flux Density')\n",
    "plt.legend([sp1.name,sp2.name])\n",
    "\n",
    "plt.subplot(212)\n",
    "plt.plot(sp3.wave,sp3.flux,'k-')\n",
    "plt.legend(['Difference'])\n",
    "plt.plot([0.8,2.4],[0,0],'k--')\n",
    "plt.fill_between(sp3.wave,sp3.noise,-1.*sp3.noise,color='k',alpha=0.3)\n",
    "#plt.ylim([-0.5,0.5])\n",
    "plt.xlim([0.8,2.4])\n",
    "plt.xlabel('Wavelength (micron)')\n",
    "plt.ylabel('Difference')\n"
   ]
  },
  {
   "cell_type": "code",
   "execution_count": null,
   "metadata": {},
   "outputs": [],
   "source": [
    "# fit part of a spectrum to a line and divide this out\n",
    "fit_range = [0.8,1.15]\n",
    "\n",
    "# read in an L dwarf spectrum and trim \n",
    "sp = splat.getSpectrum(spt='L4',snr=40,lucky=True)[0]\n",
    "sp.trim(fit_range)\n",
    "\n",
    "# fit to a line using np.polyfit\n",
    "fit = np.polyfit(sp.wave.value,sp.flux.value,1)\n",
    "print(fit)\n",
    "\n",
    "# generate a spectrum that is this linear function\n",
    "sp_continuum = splat.Spectrum(wave=sp.wave,flux=np.polyval(fit,sp.wave.value)*sp.flux.unit)\n",
    "\n",
    "# divide out this continuum\n",
    "sp_normalized = sp/sp_continuum\n",
    "\n",
    "# plot the results\n",
    "plt.subplot(211)\n",
    "plt.plot(sp.wave,sp.flux,'k-')\n",
    "plt.plot(sp_continuum.wave,sp_continuum.flux,'g-')\n",
    "plt.ylim([0,np.nanquantile(sp.flux.value,0.98)*1.5])\n",
    "plt.xlim(fit_range)\n",
    "plt.ylabel('Normalized Flux Density')\n",
    "plt.legend([sp.name,'Continuum'])\n",
    "\n",
    "plt.subplot(212)\n",
    "plt.plot(sp_normalized.wave,sp_normalized.flux,'k-')\n",
    "plt.legend(['Continuum-Corrected'])\n",
    "plt.plot(fit_range,[1,1],'k--')\n",
    "plt.ylim([0.5,1.5])\n",
    "plt.xlim(fit_range)\n",
    "plt.xlabel('Wavelength (micron)')\n",
    "plt.ylabel('Ratio')\n"
   ]
  },
  {
   "cell_type": "code",
   "execution_count": null,
   "metadata": {},
   "outputs": [],
   "source": [
    "sp_normalized.flux.unit"
   ]
  },
  {
   "cell_type": "markdown",
   "metadata": {},
   "source": [
    "We can also compare spectra to each other using the compareSpectra routine, which returns a comparison statistic (by default chi^2) and a scale factor"
   ]
  },
  {
   "cell_type": "code",
   "execution_count": null,
   "metadata": {},
   "outputs": [],
   "source": [
    "# read in two spectra of similar types\n",
    "sp1 = splat.getSpectrum(spt='L5',lucky=True)[0]\n",
    "sp2 = splat.getSpectrum(spt='L5',lucky=True)[0]\n",
    "chi,scale = splat.compareSpectra(sp1,sp2,plot=True)\n",
    "print(chi,scale)"
   ]
  },
  {
   "cell_type": "code",
   "execution_count": null,
   "metadata": {},
   "outputs": [],
   "source": [
    "# we can also constrain the range over which the copmarison is made\n",
    "chi,scale = splat.compareSpectra(sp1,sp2,fit_range=[1.0,1.25],plot=True)\n",
    "print(chi,scale)"
   ]
  },
  {
   "cell_type": "code",
   "execution_count": null,
   "metadata": {},
   "outputs": [],
   "source": [
    "# we can now overplot these by using the scale factor\n",
    "sp2.scale(scale)\n",
    "plt.plot(sp1.wave,sp1.flux,'k-')\n",
    "plt.plot(sp2.wave,sp2.flux,'m-')\n",
    "plt.ylim([0,np.quantile(sp1.flux.value,0.98)*1.5])\n",
    "plt.xlabel('Wavelength ({})'.format(sp1.flux.unit))\n",
    "plt.ylabel('Flux Density ({})'.format(sp1.flux.unit))\n"
   ]
  },
  {
   "cell_type": "markdown",
   "metadata": {},
   "source": [
    "# Spectral classification\n",
    "\n",
    "Classification of spectra is done using spectral indices. There are several sets of spectral standards available for classification of different spectral classes."
   ]
  },
  {
   "cell_type": "code",
   "execution_count": null,
   "metadata": {},
   "outputs": [],
   "source": [
    "# read in a random L5 dwarf\n",
    "sp = splat.getSpectrum(spt='L5',lucky=True)[0]\n",
    "sp.plot()"
   ]
  },
  {
   "cell_type": "code",
   "execution_count": null,
   "metadata": {},
   "outputs": [],
   "source": [
    "# the easiest way to classify is to use classifyByStandard\n",
    "# this will take some time on the first go as it reads in the standards\n",
    "splat.classifyByStandard(sp,plot=True)"
   ]
  },
  {
   "cell_type": "code",
   "execution_count": null,
   "metadata": {},
   "outputs": [],
   "source": [
    "# here's what the standards are\n",
    "splat.STDS_DWARF_SPEX"
   ]
  },
  {
   "cell_type": "code",
   "execution_count": null,
   "metadata": {},
   "outputs": [],
   "source": [
    "# we can also vary how the classification is done\n",
    "splat.classifyByStandard(sp,method='kirkpatrick',plot=True)"
   ]
  },
  {
   "cell_type": "code",
   "execution_count": null,
   "metadata": {},
   "outputs": [],
   "source": [
    "# there are other standard sets we can read in\n",
    "splat.initializeStandards(sd=True)\n",
    "splat.STDS_SD_SPEX"
   ]
  },
  {
   "cell_type": "code",
   "execution_count": null,
   "metadata": {},
   "outputs": [],
   "source": [
    "# try classifying a subdwarf with these\n",
    "#sp = splat.getSpectrum(spt='M7',subdwarf=True,lucky=True)[0]\n",
    "#splat.classifyByStandard(sp,method='kirkpatrick',plot=True)\n",
    "splat.classifyByStandard(sp,method='kirkpatrick',sd=True,plot=True)\n"
   ]
  },
  {
   "cell_type": "markdown",
   "metadata": {},
   "source": [
    "## Classify by indices\n",
    "\n",
    "You can also use spectral indices to classify spectra; these indices sample specific features, such as molecular absorption bands"
   ]
  },
  {
   "cell_type": "code",
   "execution_count": null,
   "metadata": {},
   "outputs": [],
   "source": [
    "# here's an example of measuring an existing set of indices\n",
    "# it return a dictionary with the index names conneting to the measurement & uncertainty\n",
    "sp = splat.getSpectrum(spt='L4',lucky=True)[0]\n",
    "sp.plot(ldwarf=True)\n",
    "splat.measureIndexSet(sp,set='burgasser')"
   ]
  },
  {
   "cell_type": "code",
   "execution_count": null,
   "metadata": {},
   "outputs": [],
   "source": [
    "# you can find what index sets are available, and their definitions, using this command\n",
    "spem.info_indices()"
   ]
  },
  {
   "cell_type": "code",
   "execution_count": null,
   "metadata": {},
   "outputs": [],
   "source": [
    "# Let's classify using the allers2013 set\n",
    "# this will return the mean type and uncertainty\n",
    "splat.classifyByIndex(sp,ref='allers',verbose=True)"
   ]
  },
  {
   "cell_type": "markdown",
   "metadata": {},
   "source": [
    "## Classify gravity\n",
    "\n",
    "Allers & Liu (2013) have published a gravity classification scheme that allows us to distinguish low-gravity (young) obejcts from high-gravity (old) objects"
   ]
  },
  {
   "cell_type": "code",
   "execution_count": null,
   "metadata": {},
   "outputs": [],
   "source": [
    "# grab a young spectrum\n",
    "sp = splat.getSpectrum(spt=['M9','L2'],lowg=True,snr=40,lucky=True)[0]\n",
    "sp.plot()"
   ]
  },
  {
   "cell_type": "code",
   "execution_count": null,
   "metadata": {},
   "outputs": [],
   "source": [
    "splat.classifyByStandard(sp,method='kirkpatrick',plot=True)"
   ]
  },
  {
   "cell_type": "code",
   "execution_count": null,
   "metadata": {},
   "outputs": [],
   "source": [
    "splat.classifyGravity(sp,verbose=True)"
   ]
  },
  {
   "cell_type": "code",
   "execution_count": null,
   "metadata": {},
   "outputs": [],
   "source": [
    "splat.classifyByStandard(sp,lowg=True,plot=True)"
   ]
  },
  {
   "cell_type": "markdown",
   "metadata": {},
   "source": [
    "# Exercise\n",
    "\n",
    "Here's a real science case: we're going to analyze the spectrum of a known unresolved binary, 2MASS J0518-2828, by measuring its indices, comparing to spectral standards, and then comparing to a binary template constructed from two differently-classified sources (L5 and T5) that are scaled to their spectral type-based absolute J-band magnitudes. The outline of this exercise is in the next few cells; the solution is provided below"
   ]
  },
  {
   "cell_type": "code",
   "execution_count": null,
   "metadata": {},
   "outputs": [],
   "source": [
    "# first read in the spectrum of 2MASS J0518-2828 by seaching on the shortname 'J0518-2828'\n",
    "[enter code here]"
   ]
  },
  {
   "cell_type": "code",
   "execution_count": null,
   "metadata": {},
   "outputs": [],
   "source": [
    "# measure the spectral indices from burgasser et al.\n",
    "[enter code here]"
   ]
  },
  {
   "cell_type": "code",
   "execution_count": null,
   "metadata": {},
   "outputs": [],
   "source": [
    "# determine the spectral type using the kirkpatrick method\n",
    "[enter code here]"
   ]
  },
  {
   "cell_type": "code",
   "execution_count": null,
   "metadata": {},
   "outputs": [],
   "source": [
    "# read in spectral templates for the primary and secondary types\n",
    "[enter code here]"
   ]
  },
  {
   "cell_type": "code",
   "execution_count": null,
   "metadata": {},
   "outputs": [],
   "source": [
    "# the absolute magnitudes of these types come from the function splat.empirical.typeToMag\n",
    "mag_L5 = spem.typeToMag('L5','2MASS J',set='filippazzo')[0]\n",
    "mag_T5 = spem.typeToMag('T5','2MASS J',set='filippazzo')[0]\n",
    "print(mag_L5,mag_T5)\n",
    "\n",
    "# now use the magnitudes to scale the template spectra\n",
    "[enter here]"
   ]
  },
  {
   "cell_type": "code",
   "execution_count": null,
   "metadata": {},
   "outputs": [],
   "source": [
    "# add the template spectra together to make a binary template\n",
    "[enter code here]"
   ]
  },
  {
   "cell_type": "code",
   "execution_count": null,
   "metadata": {},
   "outputs": [],
   "source": [
    "# now compare the binary template and J0518-2828 spectrum using compareSpectra, and plot the result\n",
    "[enter code here]"
   ]
  },
  {
   "cell_type": "code",
   "execution_count": null,
   "metadata": {},
   "outputs": [],
   "source": [
    "# BONUS: do the above steps a few times until you get a \"best\" fit, and plot the \n",
    "# appropriately scaled primary, secondary, binary templates and J0518-2828, and\n",
    "# and the difference between J0518-2828 and the binary template to compare them\n",
    "[enter code here]"
   ]
  },
  {
   "cell_type": "markdown",
   "metadata": {},
   "source": [
    "# Exercise Solution"
   ]
  },
  {
   "cell_type": "code",
   "execution_count": null,
   "metadata": {},
   "outputs": [],
   "source": [
    "# read in spectrum of known spectral binary\n",
    "sp = splat.getSpectrum(shortname='J0518-2828')[0]\n",
    "sp.normalize()\n",
    "sp.plot()"
   ]
  },
  {
   "cell_type": "code",
   "execution_count": null,
   "metadata": {},
   "outputs": [],
   "source": [
    "# indices\n",
    "splat.measureIndexSet(sp,'burgasser',verbose=True)\n"
   ]
  },
  {
   "cell_type": "code",
   "execution_count": null,
   "metadata": {},
   "outputs": [],
   "source": [
    "# classification\n",
    "spt,spt_e = splat.classifyByStandard(sp,plot=True)\n",
    "print('\\nSpectral types: {}+/-{}'.format(spt,spt_e))\n"
   ]
  },
  {
   "cell_type": "code",
   "execution_count": null,
   "metadata": {},
   "outputs": [],
   "source": [
    "# read in template spectra\n",
    "sp1 = splat.getSpectrum(spt='L5',snr=20,binary=False,lucky=True)[0]\n",
    "sp2 = splat.getSpectrum(spt='T5',snr=20,binary=False,lucky=True)[0]\n",
    "\n",
    "# get the right magnitudes from an empirical relation of Filippazzo et al. (2015)\n",
    "# this returns the value and uncertainty\n",
    "mag_L5 = spem.typeToMag('L5','2MASS J',set='filippazzo')[0]\n",
    "mag_T5 = spem.typeToMag('T5','2MASS J',set='filippazzo')[0]\n",
    "print('\\nL5 M_J = {}, T5 M_J = {}'.format(mag_L5,mag_T5))\n"
   ]
  },
  {
   "cell_type": "code",
   "execution_count": null,
   "metadata": {},
   "outputs": [],
   "source": [
    "# scale the spectra\n",
    "sp1.fluxCalibrate('2MASS J',mag_L5,absolute=True)\n",
    "sp2.fluxCalibrate('2MASS J',mag_T5,absolute=True)\n",
    "\n",
    "# add them to make a binary\n",
    "sp3 = sp1+sp2\n",
    "sp3.plot()"
   ]
  },
  {
   "cell_type": "code",
   "execution_count": null,
   "metadata": {},
   "outputs": [],
   "source": [
    "# do an initial compareSpectra to get the scale factors\n",
    "chi,scl_std = splat.compareSpectra(sp,splat.STDS_DWARF_SPEX[spt])\n",
    "chi,scl_binary = splat.compareSpectra(sp,sp3)\n",
    "sp3.scale(scl_binary)\n",
    "\n",
    "# compute the difference\n",
    "spdiff = sp-sp3\n",
    "spdiff.plot()"
   ]
  },
  {
   "cell_type": "code",
   "execution_count": null,
   "metadata": {},
   "outputs": [],
   "source": [
    "# read in spectrum of known spectral binary\n",
    "sp = splat.getSpectrum(shortname='J0518-2828')[0]\n",
    "sp.normalize()\n",
    "\n",
    "# indices\n",
    "splat.measureIndexSet(sp,'burgasser',verbose=True)\n",
    "\n",
    "# classification\n",
    "spt,spt_e = splat.classifyByStandard(sp)\n",
    "print('\\nSpectral types: {}+/-{}'.format(spt,spt_e))\n",
    "\n",
    "# read in template spectra\n",
    "sp1 = splat.getSpectrum(spt='L5',snr=20,binary=False,lucky=True)[0]\n",
    "sp2 = splat.getSpectrum(spt='T5',snr=20,binary=False,lucky=True)[0]\n",
    "\n",
    "# get the right magnitudes from an empirical relation of Filippazzo et al. (2015)\n",
    "# this returns the value and uncertainty\n",
    "mag_L5 = spem.typeToMag('L5','2MASS J',set='filippazzo')[0]\n",
    "mag_T5 = spem.typeToMag('T5','2MASS J',set='filippazzo')[0]\n",
    "print('\\nL5 M_J = {}, T5 M_J = {}'.format(mag_L5,mag_T5))\n",
    "\n",
    "# scale the spectra\n",
    "sp1.fluxCalibrate('2MASS J',mag_L5,absolute=True)\n",
    "sp2.fluxCalibrate('2MASS J',mag_T5,absolute=True)\n",
    "\n",
    "# add them to make a binary\n",
    "sp3 = sp1+sp2\n",
    "\n",
    "# do an initial compareSpectra to get the scale factors\n",
    "chi,scl_std = splat.compareSpectra(sp,splat.STDS_DWARF_SPEX[spt])\n",
    "chi,scl_binary = splat.compareSpectra(sp,sp3)\n",
    "\n",
    "# compute the difference\n",
    "spdiff = sp-sp3\n",
    "\n",
    "# visualize the results\n",
    "plt.figure(figsize=[6,8])\n",
    "plt.subplot(211)\n",
    "plt.plot(sp.wave,sp.flux,'k-')\n",
    "plt.plot(splat.STDS_DWARF_SPEX[spt].wave,splat.STDS_DWARF_SPEX[spt].flux*scl_std,'b-')\n",
    "plt.legend(['J0518-2828',spt])\n",
    "plt.ylim([0,np.nanquantile(sp.flux.value,0.98)*1.5])\n",
    "plt.xlim([0.8,2.4])\n",
    "plt.ylabel('Normalized Flux Density')\n",
    "\n",
    "plt.subplot(212)\n",
    "plt.plot(sp.wave,sp.flux,'k-')\n",
    "plt.plot(sp1.wave,sp1.flux*scl_binary,'m-')\n",
    "plt.plot(sp2.wave,sp2.flux*scl_binary,'b-')\n",
    "plt.plot(sp3.wave,sp3.flux*scl_binary,'g-')\n",
    "plt.legend(['J0518-2828','L5','T5','L5+T5'])\n",
    "plt.ylim([0,np.nanquantile(sp.flux.value,0.98)*1.5])\n",
    "plt.xlim([0.8,2.4])\n",
    "plt.ylabel('Normalized Flux Density')\n",
    "plt.xlabel('Wavelength')\n",
    "\n",
    "\n"
   ]
  },
  {
   "cell_type": "markdown",
   "metadata": {},
   "source": [
    "# Index measurement\n",
    "\n",
    "SPLAT has built-in functions to do index measurement, including literature-defined index sets and empirical relations to turn these into classifications"
   ]
  },
  {
   "cell_type": "code",
   "execution_count": null,
   "metadata": {},
   "outputs": [],
   "source": [
    "# do a basic index measurement\n",
    "# read in a random T5\n",
    "sp = splat.getSpectrum(spt='T5',lucky=True)[0]\n",
    "\n",
    "# measure the ratio of two regions - first range is numerator second range is denominator\n",
    "ind = splat.measureIndex(sp,[[1.1,1.2],[1.22,1.32]],method='ratio',sample='integrate')\n",
    "print(ind)"
   ]
  },
  {
   "cell_type": "code",
   "execution_count": null,
   "metadata": {},
   "outputs": [],
   "source": [
    "# you can visualize the placement of these indices by setting plot=True\n",
    "# NOTE: this is throwing some errors\n",
    "ind = splat.measureIndex(sp,[[1.1,1.2],[1.22,1.32]],method='ratio',sample='integrate',plot=True)\n"
   ]
  },
  {
   "cell_type": "code",
   "execution_count": null,
   "metadata": {},
   "outputs": [],
   "source": [
    "# measure an index set that is pre-defined in the literature\n",
    "# this returns a dictionary of values\n",
    "splat.measureIndexSet(sp,ref='burgasser',verbose=True)"
   ]
  },
  {
   "cell_type": "code",
   "execution_count": null,
   "metadata": {},
   "outputs": [],
   "source": [
    "# there is a handy information function to find out what index sets are currently included\n",
    "spem.info_indices()"
   ]
  },
  {
   "cell_type": "code",
   "execution_count": null,
   "metadata": {},
   "outputs": [],
   "source": [
    "# you can use these indices to classify an object\n",
    "splat.classifyByIndex(sp,ref='burgasser',verbose=True)"
   ]
  },
  {
   "cell_type": "code",
   "execution_count": null,
   "metadata": {},
   "outputs": [],
   "source": [
    "# indices are also used for gravity classification of young sources\n",
    "sp = splat.getSpectrum(spt='L2',young=True,lucky=True)[0]\n",
    "splat.classifyGravity(sp,verbose=True)"
   ]
  },
  {
   "cell_type": "markdown",
   "metadata": {},
   "source": [
    "# Comparing spectra and spectral classification\n",
    "\n",
    "We often want to compare spectra against each other, either to classify or to fit to models. The main function to do this is splat.compareSpectra, which returns the comparison statistic and optimal scale factor, and has many options for modifying and visualizing the comparison."
   ]
  },
  {
   "cell_type": "code",
   "execution_count": null,
   "metadata": {},
   "outputs": [],
   "source": [
    "# check out the options of compareSpectra\n",
    "splat.compareSpectra?"
   ]
  },
  {
   "cell_type": "code",
   "execution_count": null,
   "metadata": {},
   "outputs": [],
   "source": [
    "# read in M7 and M8 spectra and compare them\n",
    "sp1 = splat.getSpectrum(spt='M7',lucky=True)[0]\n",
    "sp2 = splat.getSpectrum(spt='M8',lucky=True)[0]\n",
    "\n",
    "splat.compareSpectra(sp1,sp2,plot=True)\n"
   ]
  },
  {
   "cell_type": "code",
   "execution_count": null,
   "metadata": {},
   "outputs": [],
   "source": [
    "# limit copmarison to a specific range\n",
    "splat.compareSpectra(sp1,sp2,fit_ranges=[0.8,1.0],plot=True)\n"
   ]
  },
  {
   "cell_type": "code",
   "execution_count": null,
   "metadata": {},
   "outputs": [],
   "source": [
    "# to compare to spectral standards, you can use the built-in list of these standards\n",
    "splat.initializeStandards()  # first read in the standards\n",
    "stdM8 = splat.STDS_DWARF_SPEX['M8.0']  # there are different standard for different instruments\n",
    "splat.compareSpectra(sp2,stdM8,plot=True)\n"
   ]
  },
  {
   "cell_type": "code",
   "execution_count": null,
   "metadata": {},
   "outputs": [],
   "source": [
    "# a more efficient way to accomplish this is to use splat.classifyByStandard which will find the best match\n",
    "splat.classifyByStandard(sp2,plot=True)"
   ]
  },
  {
   "cell_type": "code",
   "execution_count": null,
   "metadata": {},
   "outputs": [],
   "source": [
    "# you can compare to alternate standards as well\n",
    "# this command compares to a suite of subdwarf standards\n",
    "splat.classifyByStandard(sp2,plot=True,sd=True)"
   ]
  },
  {
   "cell_type": "code",
   "execution_count": null,
   "metadata": {},
   "outputs": [],
   "source": [
    "# this command compares to a suite of low gravity standards\n",
    "splat.classifyByStandard(sp2,plot=True,vlg=True)"
   ]
  },
  {
   "cell_type": "code",
   "execution_count": null,
   "metadata": {},
   "outputs": [],
   "source": []
  }
 ],
 "metadata": {
  "kernelspec": {
   "display_name": "Python 3",
   "language": "python",
   "name": "python3"
  },
  "language_info": {
   "codemirror_mode": {
    "name": "ipython",
    "version": 3
   },
   "file_extension": ".py",
   "mimetype": "text/x-python",
   "name": "python",
   "nbconvert_exporter": "python",
   "pygments_lexer": "ipython3",
   "version": "3.7.7"
  }
 },
 "nbformat": 4,
 "nbformat_minor": 2
}
