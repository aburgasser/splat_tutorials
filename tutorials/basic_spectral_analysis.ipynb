{
 "cells": [
  {
   "cell_type": "markdown",
   "metadata": {},
   "source": [
    "# SPLAT Tutorials: Basic Spectral Analysis\n",
    "\n",
    "## Authors\n",
    "Adam Burgasser\n",
    "\n",
    "## Version date\n",
    "18 January 2022\n",
    "\n",
    "## Learning Goals\n",
    "* Read in a spectrum from the SPLAT database or externally (splat.searchLibrary, splat.getSpectrum)\n",
    "* Plot a spectrum (splat.Spectrum.plot)\n",
    "* Some basic manipulation of spectra - normalizing, scaling, trimming, changing units, spectral math (splat.Spectrum)\n",
    "* Flux calibrate a spectrum (splat.Spectrum.fluxCalibrate)\n",
    "* Compare a spectrum to another spectrum (splat.compareSpectrum)\n",
    "* Compare a spectrum a set of spectral standards (splat.classifyByStandard)\n",
    "* Measure a set of indices to infer a classification (splat.measureIndexSet, splat.classifyByIndex)\n",
    "\n",
    "## Keywords\n",
    "spectral archive, spectral analysis, indices, classification\n",
    "\n",
    "## Companion Content\n",
    "None\n",
    "\n",
    "## Summary\n",
    "In this tutorial, we will examine how to draw a spectrum from the SPLAT library and conduct some basic spectral analyses to that object, including visualization, manipulation of the spectrum, using photometry to flux calibrate or measure the colors of a spectrum, measure spectral indices, and classification.\n"
   ]
  },
  {
   "cell_type": "markdown",
   "metadata": {},
   "source": [
    "# Starting off\n",
    "\n",
    "Let's make sure the code is properly downloaded through the import statements; see http://pono.ucsd.edu/~adam/browndwarfs/splat/ for more detail on the proper installation procedures"
   ]
  },
  {
   "cell_type": "code",
   "execution_count": 1,
   "metadata": {},
   "outputs": [
    {
     "name": "stdout",
     "output_type": "stream",
     "text": [
      "\n",
      "\n",
      "Welcome to the Spex Prism Library Analysis Toolkit (SPLAT)!\n",
      "If you make use of any features of this toolkit for your research, please remember to cite the SPLAT paper:\n",
      "\n",
      "Burgasser et al. (2017, Astro. Soc. India Conf. Series 14, p. 7); Bibcode: 2017ASInC..14....7B\n",
      "\n",
      "If you make use of any spectra or models in this toolkit, please remember to cite the original source.\n",
      "Please report any errors are feature requests to our github page, https://github.com/aburgasser/splat/\n",
      "\n",
      "\n"
     ]
    }
   ],
   "source": [
    "# main splat import\n",
    "import splat\n",
    "import splat.plot as splot\n",
    "import splat.photometry as sphot\n",
    "import splat.empirical as spem\n",
    "\n",
    "# other useful imports\n",
    "import matplotlib.pyplot as plt\n",
    "import numpy as np\n",
    "import pandas\n",
    "import astropy.units as u\n",
    "from astropy.io import fits\n",
    "from astropy.utils.data import download_file\n"
   ]
  },
  {
   "cell_type": "code",
   "execution_count": null,
   "metadata": {},
   "outputs": [],
   "source": [
    "# check what version you are using\n",
    "splat.VERSION"
   ]
  },
  {
   "cell_type": "code",
   "execution_count": null,
   "metadata": {},
   "outputs": [],
   "source": [
    "# check that you have some spectra in the library\n",
    "splat.DB_SOURCES"
   ]
  },
  {
   "cell_type": "code",
   "execution_count": null,
   "metadata": {},
   "outputs": [],
   "source": [
    "# who has contributed to this code?\n",
    "splat.AUTHORS"
   ]
  },
  {
   "cell_type": "markdown",
   "metadata": {},
   "source": [
    "# Reading in and visualizing spectra\n",
    "\n",
    "SPLAT contains a built-in library of published SpeX prism spectra of ultracool dwarfs. It is also possible to download additional spectral datasets and read in your own spectrum or a spectrum from an website. Once you've read a spectrum into a Spectrum object, you can use the built-in features to visualize the spectrum."
   ]
  },
  {
   "cell_type": "code",
   "execution_count": null,
   "metadata": {},
   "outputs": [],
   "source": [
    "splat.getSpectrum?"
   ]
  },
  {
   "cell_type": "code",
   "execution_count": null,
   "metadata": {},
   "outputs": [],
   "source": [
    "# grab a random spectrum from the library and plot it\n",
    "# this produces a list of Spectrum objects so we want just the first one\n",
    "sp = splat.getSpectrum(lucky=True)[0]\n",
    "sp.plot()"
   ]
  },
  {
   "cell_type": "code",
   "execution_count": null,
   "metadata": {},
   "outputs": [],
   "source": [
    "# get some information about this spectrum using info()\n",
    "sp.info()"
   ]
  },
  {
   "cell_type": "code",
   "execution_count": null,
   "metadata": {},
   "outputs": [],
   "source": [
    "# grab a random L5 dwarf\n",
    "# this produces a list of Spectrum objects so we want just the first one\n",
    "sp = splat.getSpectrum(spt='L5', lucky=True)[0]\n",
    "sp.plot()"
   ]
  },
  {
   "cell_type": "code",
   "execution_count": null,
   "metadata": {},
   "outputs": [],
   "source": [
    "# grab a very specific spectrum based on its source ID\n",
    "sp = splat.Spectrum(10001)\n",
    "sp.plot()"
   ]
  },
  {
   "cell_type": "code",
   "execution_count": null,
   "metadata": {},
   "outputs": [],
   "source": [
    "# grab all the spectra of TWA 30A\n",
    "splist = splat.getSpectrum(name='TWA 30A')\n",
    "print(splist)\n",
    "for sp in splist: sp.plot()"
   ]
  },
  {
   "cell_type": "code",
   "execution_count": null,
   "metadata": {},
   "outputs": [],
   "source": [
    "# grab a spectrum based on a \"shortname\" (RA and DEC shorthand)\n",
    "sp = splat.getSpectrum(shortname='J0559-1404')[0]\n",
    "sp.plot()"
   ]
  },
  {
   "cell_type": "code",
   "execution_count": null,
   "metadata": {},
   "outputs": [],
   "source": [
    "# we can also search the library for spectra\n",
    "# this produces a pandas table of the relevant spectra\n",
    "s = splat.searchLibrary(spt=['L5','L9'],snr=50)\n",
    "s"
   ]
  },
  {
   "cell_type": "code",
   "execution_count": null,
   "metadata": {},
   "outputs": [],
   "source": [
    "# choose one of these spectra\n",
    "sp = splat.Spectrum(s['DATA_KEY'][1])\n",
    "sp.plot()"
   ]
  },
  {
   "cell_type": "code",
   "execution_count": null,
   "metadata": {},
   "outputs": [],
   "source": [
    "# read in a spectrum from an online fits file\n",
    "f = download_file('http://pono.ucsd.edu/~adam/data/spex_test/spex_prism_PSOJ0077921+578267_120924.fits',cache=\"update\")\n",
    "sp = splat.Spectrum(file=f,file_type='fits',name='PSOJ0077921+578267')\n",
    "sp.plot()"
   ]
  },
  {
   "cell_type": "markdown",
   "metadata": {},
   "source": [
    "# Plotting spectra\n",
    "\n",
    "There are several nice features contained in the splat.plot code and built into the .plot() routine that allows for publication-ready plots of spectra. Here's just a few examples"
   ]
  },
  {
   "cell_type": "code",
   "execution_count": null,
   "metadata": {},
   "outputs": [],
   "source": [
    "# get a nice high S/N L4 spectrum\n",
    "sp = splat.getSpectrum(spt='L4',snr=50,lucky=True)[0]\n",
    "sp.plot()"
   ]
  },
  {
   "cell_type": "code",
   "execution_count": null,
   "metadata": {},
   "outputs": [],
   "source": [
    "# there are some nice addons on the default plot routine\n",
    "# this shows the regions of strong telluric absorption\n",
    "sp.plot(telluric=True)"
   ]
  },
  {
   "cell_type": "code",
   "execution_count": null,
   "metadata": {},
   "outputs": [],
   "source": [
    "# this shows the locations of key spectral features\n",
    "sp.plot(features=['feh','h2o','co'])"
   ]
  },
  {
   "cell_type": "code",
   "execution_count": null,
   "metadata": {},
   "outputs": [],
   "source": [
    "# or you can plot a pre-defined set of features\n",
    "sp.plot(ldwarf=True)"
   ]
  },
  {
   "cell_type": "code",
   "execution_count": null,
   "metadata": {},
   "outputs": [],
   "source": [
    "# you can save you figure to .pdf or .png files\n",
    "sp.plot(ldwarf=True,telluric=True,output='MyPlot.pdf')"
   ]
  },
  {
   "cell_type": "code",
   "execution_count": null,
   "metadata": {},
   "outputs": [],
   "source": [
    "# you can also plot a set of spectra using splat.plot.plotSpectrum commands\n",
    "# this sequence reads in all of the TWA30B spectrum, normalizes them, and\n",
    "# saves the file as a PDF file in your directory\n",
    "splist = splat.getSpectrum(name = 'TWA 30B') # get all 20 spectra of TWA 30B\n",
    "for sp in splist: sp.normalize([1.0,1.5])    # normalize the spectra\n",
    "legend = [sp.observation_date for sp in splist]          # assigned legends to correspond to the observing dates\n",
    "splot.plotSpectrum(splist,multiplot=True,layout=[2,2],multipage=True,legend=legend,yrange=[0,1.2],output='TWA30B.pdf')\n"
   ]
  },
  {
   "cell_type": "markdown",
   "metadata": {},
   "source": [
    "# Spectrum manipulation\n",
    "\n",
    "There are many built-in features for manipulating a spectrum object"
   ]
  },
  {
   "cell_type": "code",
   "execution_count": null,
   "metadata": {},
   "outputs": [],
   "source": [
    "# grab a random T5 dwarf\n",
    "sp = splat.getSpectrum(spt='T5', lucky=True)[0]\n",
    "sp.plot(tdwarf=True)"
   ]
  },
  {
   "cell_type": "code",
   "execution_count": null,
   "metadata": {},
   "outputs": [],
   "source": [
    "# normalize the spectrum to maximum value\n",
    "sp.normalize()\n",
    "sp.plot()"
   ]
  },
  {
   "cell_type": "code",
   "execution_count": null,
   "metadata": {},
   "outputs": [],
   "source": [
    "# normalize over a specific region\n",
    "sp.normalize([1.5,1.7])\n",
    "sp.plot()"
   ]
  },
  {
   "cell_type": "code",
   "execution_count": null,
   "metadata": {},
   "outputs": [],
   "source": [
    "# multiple by a scale factor\n",
    "sp.scale(50)\n",
    "sp.plot()"
   ]
  },
  {
   "cell_type": "code",
   "execution_count": null,
   "metadata": {},
   "outputs": [],
   "source": [
    "# flux calibrate the spectrum using a photometric magnitude\n",
    "# form SpeX prism spectra these should be filters in the 1-2.5 micron range\n",
    "# such as 2MASS JHKs, UKIDSS JHK, HST F110W/F160W, etc.\n",
    "sp.fluxCalibrate('2MASS J',14.5,absolute=True)  # the \"absolute\" flag indicates this is an absolute magnitude\n",
    "sp.plot()"
   ]
  },
  {
   "cell_type": "code",
   "execution_count": null,
   "metadata": {},
   "outputs": [],
   "source": [
    "# trim the edges\n",
    "sp.trim([0.9,2.3])\n",
    "sp.plot(telluric=True)"
   ]
  },
  {
   "cell_type": "code",
   "execution_count": null,
   "metadata": {},
   "outputs": [],
   "source": [
    "# mask part of the spectrum\n",
    "sp.maskFlux([1.8,2.0])\n",
    "sp.plot()"
   ]
  },
  {
   "cell_type": "code",
   "execution_count": null,
   "metadata": {},
   "outputs": [],
   "source": [
    "# change the wavelength units\n",
    "sp.toWaveUnit(u.Angstrom)\n",
    "sp.plot()"
   ]
  },
  {
   "cell_type": "code",
   "execution_count": null,
   "metadata": {},
   "outputs": [],
   "source": [
    "# change the flux units\n",
    "sp.toFluxUnit(u.W/u.m/u.m/u.Angstrom)\n",
    "sp.plot()"
   ]
  },
  {
   "cell_type": "code",
   "execution_count": null,
   "metadata": {},
   "outputs": [],
   "source": [
    "# change to fnu units (erg/cm2/s/Hz)\n",
    "sp.toFnu()\n",
    "sp.plot()"
   ]
  },
  {
   "cell_type": "code",
   "execution_count": null,
   "metadata": {},
   "outputs": [],
   "source": [
    "# reset all your changes to go back to the original spectrum\n",
    "sp.reset()\n",
    "sp.plot()"
   ]
  },
  {
   "cell_type": "markdown",
   "metadata": {},
   "source": [
    "# Spectral Math\n",
    "\n",
    "The Spectrum object takes care of all of the necessary math steps to add, subtract, multiply and divide spectra"
   ]
  },
  {
   "cell_type": "code",
   "execution_count": null,
   "metadata": {},
   "outputs": [],
   "source": [
    "# read in two M-type spectra, normalize them and add them together\n",
    "sp1 = splat.getSpectrum(spt=['M5','M9'],lucky=True)[0]\n",
    "sp2 = splat.getSpectrum(spt=['M5','M9'],lucky=True)[0]\n",
    "sp1.normalize()\n",
    "sp2.normalize()\n",
    "\n",
    "# add together\n",
    "sp3 = sp1+sp2\n",
    "\n",
    "# plot this up using matplotlib\n",
    "plt.plot(sp1.wave,sp1.flux,'b-')\n",
    "plt.plot(sp2.wave,sp2.flux,'g-')\n",
    "plt.plot(sp3.wave,sp3.flux,'k-')\n",
    "plt.legend([sp1.name,sp2.name,'Sum'])\n",
    "plt.ylim([0,2.2])\n",
    "plt.xlim([0.8,2.4])\n",
    "plt.xlabel('Wavelength (micron)')\n",
    "plt.ylabel('Normalized Flux Density')\n"
   ]
  },
  {
   "cell_type": "code",
   "execution_count": null,
   "metadata": {},
   "outputs": [],
   "source": [
    "sp3.plot()"
   ]
  },
  {
   "cell_type": "code",
   "execution_count": null,
   "metadata": {},
   "outputs": [],
   "source": [
    "# read in two M7 spectra, normalize them and subtract them to see differences\n",
    "sp1 = splat.getSpectrum(spt='M7',lucky=True)[0]\n",
    "sp2 = splat.getSpectrum(spt='M7',lucky=True)[0]\n",
    "sp1.normalize()\n",
    "sp2.normalize()\n",
    "\n",
    "# subtract\n",
    "sp3 = sp1-sp2\n",
    "\n",
    "# plot the individual spectra and their difference in two panels\n",
    "plt.subplot(211)\n",
    "plt.plot(sp1.wave,sp1.flux,'b-')\n",
    "plt.plot(sp2.wave,sp2.flux,'g-')\n",
    "#plt.ylim([0,1.2])\n",
    "plt.xlim([0.8,2.4])\n",
    "plt.ylabel('Normalized Flux Density')\n",
    "plt.legend([sp1.name,sp2.name])\n",
    "\n",
    "plt.subplot(212)\n",
    "plt.plot(sp3.wave,sp3.flux,'k-')\n",
    "plt.legend(['Difference'])\n",
    "plt.plot([0.8,2.4],[0,0],'k--')\n",
    "plt.fill_between(sp3.wave,sp3.noise,-1.*sp3.noise,color='k',alpha=0.3)\n",
    "#plt.ylim([-0.5,0.5])\n",
    "plt.xlim([0.8,2.4])\n",
    "plt.xlabel('Wavelength (micron)')\n",
    "plt.ylabel('Difference')\n"
   ]
  },
  {
   "cell_type": "code",
   "execution_count": null,
   "metadata": {},
   "outputs": [],
   "source": [
    "# fit part of a spectrum to a line and divide this out\n",
    "fit_range = [0.8,1.15]\n",
    "\n",
    "# read in an L dwarf spectrum and trim \n",
    "sp = splat.getSpectrum(spt='L4',snr=40,lucky=True)[0]\n",
    "sp.trim(fit_range)\n",
    "\n",
    "# fit to a line using np.polyfit\n",
    "fit = np.polyfit(sp.wave.value,sp.flux.value,1)\n",
    "print(fit)\n",
    "\n",
    "# generate a spectrum that is this linear function\n",
    "sp_continuum = splat.Spectrum(wave=sp.wave,flux=np.polyval(fit,sp.wave.value)*sp.flux.unit)\n",
    "\n",
    "# divide out this continuum\n",
    "sp_normalized = sp/sp_continuum\n",
    "\n",
    "# plot the results\n",
    "plt.subplot(211)\n",
    "plt.plot(sp.wave,sp.flux,'k-')\n",
    "plt.plot(sp_continuum.wave,sp_continuum.flux,'g-')\n",
    "plt.ylim([0,np.nanquantile(sp.flux.value,0.98)*1.5])\n",
    "plt.xlim(fit_range)\n",
    "plt.ylabel('Normalized Flux Density')\n",
    "plt.legend([sp.name,'Continuum'])\n",
    "\n",
    "plt.subplot(212)\n",
    "plt.plot(sp_normalized.wave,sp_normalized.flux,'k-')\n",
    "plt.legend(['Continuum-Corrected'])\n",
    "plt.plot(fit_range,[1,1],'k--')\n",
    "plt.ylim([0.5,1.5])\n",
    "plt.xlim(fit_range)\n",
    "plt.xlabel('Wavelength (micron)')\n",
    "plt.ylabel('Ratio')\n"
   ]
  },
  {
   "cell_type": "markdown",
   "metadata": {},
   "source": [
    "We can also compare spectra to each other using the compareSpectra routine, which returns a comparison statistic (by default chi^2) and a scale factor"
   ]
  },
  {
   "cell_type": "code",
   "execution_count": null,
   "metadata": {},
   "outputs": [],
   "source": [
    "# read in two spectra of similar types\n",
    "sp1 = splat.getSpectrum(spt='L5',lucky=True)[0]\n",
    "sp2 = splat.getSpectrum(spt='L5',lucky=True)[0]\n",
    "chi,scale = splat.compareSpectra(sp1,sp2,plot=True)\n",
    "print(chi,scale)"
   ]
  },
  {
   "cell_type": "code",
   "execution_count": null,
   "metadata": {},
   "outputs": [],
   "source": [
    "# we can also constrain the range over which the copmarison is made\n",
    "chi,scale = splat.compareSpectra(sp1,sp2,fit_range=[1.0,1.25],plot=True)\n",
    "print(chi,scale)"
   ]
  },
  {
   "cell_type": "code",
   "execution_count": null,
   "metadata": {},
   "outputs": [],
   "source": [
    "# we can now overplot these by using the scale factor\n",
    "sp2.scale(scale)\n",
    "plt.plot(sp1.wave,sp1.flux,'k-')\n",
    "plt.plot(sp2.wave,sp2.flux,'m-')\n",
    "plt.ylim([0,np.quantile(sp1.flux.value,0.98)*1.5])\n",
    "plt.xlabel('Wavelength ({})'.format(sp1.flux.unit))\n",
    "plt.ylabel('Flux Density ({})'.format(sp1.flux.unit))\n"
   ]
  },
  {
   "cell_type": "markdown",
   "metadata": {},
   "source": [
    "# Comparing spectra and spectral classification\n",
    "\n",
    "We often want to compare spectra against each other, either to classify or to fit to models. The main function to do this is splat.compareSpectra, which returns the comparison statistic and optimal scale factor, and has many options for modifying and visualizing the comparison."
   ]
  },
  {
   "cell_type": "code",
   "execution_count": 8,
   "metadata": {},
   "outputs": [],
   "source": [
    "# check out the options of compareSpectra\n",
    "splat.compareSpectra?"
   ]
  },
  {
   "cell_type": "code",
   "execution_count": 9,
   "metadata": {},
   "outputs": [
    {
     "name": "stdout",
     "output_type": "stream",
     "text": [
      "\n",
      "Retrieving 1 lucky file\n",
      "\n",
      "\n",
      "Retrieving 1 lucky file\n",
      "\n"
     ]
    },
    {
     "data": {
      "image/png": "[encoded data removed]",
      "text/plain": [
       "<Figure size 432x288 with 1 Axes>"
      ]
     },
     "metadata": {
      "needs_background": "light"
     },
     "output_type": "display_data"
    },
    {
     "data": {
      "text/plain": [
       "(<Quantity 139272.37434704>, 0.15142559437541053)"
      ]
     },
     "execution_count": 9,
     "metadata": {},
     "output_type": "execute_result"
    },
    {
     "data": {
      "text/plain": [
       "<Figure size 432x288 with 0 Axes>"
      ]
     },
     "metadata": {},
     "output_type": "display_data"
    }
   ],
   "source": [
    "# read in M7 and M8 spectra and compare them\n",
    "sp1 = splat.getSpectrum(spt='M7',lucky=True)[0]\n",
    "sp2 = splat.getSpectrum(spt='M8',lucky=True)[0]\n",
    "\n",
    "splat.compareSpectra(sp1,sp2,plot=True)\n"
   ]
  },
  {
   "cell_type": "code",
   "execution_count": 11,
   "metadata": {},
   "outputs": [
    {
     "data": {
      "image/png": "[encoded data removed]",
      "text/plain": [
       "<Figure size 432x288 with 1 Axes>"
      ]
     },
     "metadata": {
      "needs_background": "light"
     },
     "output_type": "display_data"
    },
    {
     "data": {
      "text/plain": [
       "(<Quantity 11180.11054804>, 0.13847975559237838)"
      ]
     },
     "execution_count": 11,
     "metadata": {},
     "output_type": "execute_result"
    },
    {
     "data": {
      "text/plain": [
       "<Figure size 432x288 with 0 Axes>"
      ]
     },
     "metadata": {},
     "output_type": "display_data"
    }
   ],
   "source": [
    "# limit comparison to a specific range\n",
    "splat.compareSpectra(sp1,sp2,fit_ranges=[0.8,1.0],plot=True)\n"
   ]
  },
  {
   "cell_type": "code",
   "execution_count": 12,
   "metadata": {},
   "outputs": [
    {
     "data": {
      "image/png": "[encoded data removed]",
      "text/plain": [
       "<Figure size 432x288 with 1 Axes>"
      ]
     },
     "metadata": {
      "needs_background": "light"
     },
     "output_type": "display_data"
    },
    {
     "data": {
      "text/plain": [
       "(<Quantity 137135.72212422>, 2.493027044240458e-15)"
      ]
     },
     "execution_count": 12,
     "metadata": {},
     "output_type": "execute_result"
    },
    {
     "data": {
      "text/plain": [
       "<Figure size 432x288 with 0 Axes>"
      ]
     },
     "metadata": {},
     "output_type": "display_data"
    }
   ],
   "source": [
    "# to compare to spectral standards, you can use the built-in list of these standards\n",
    "splat.initializeStandards()  # first read in the standards\n",
    "stdM8 = splat.STDS_DWARF_SPEX['M8.0']  # there are different standard for different instruments\n",
    "splat.compareSpectra(sp2,stdM8,plot=True)\n"
   ]
  },
  {
   "cell_type": "markdown",
   "metadata": {},
   "source": [
    "A more efficient way to accomplish this is to use the built-in **splat.classifyByStandard()** function which will find the best match among pre-defined standards"
   ]
  },
  {
   "cell_type": "code",
   "execution_count": null,
   "metadata": {},
   "outputs": [],
   "source": [
    "# learn about the options for this routine\n",
    "splat.classifyByStandard()?"
   ]
  },
  {
   "cell_type": "code",
   "execution_count": null,
   "metadata": {},
   "outputs": [],
   "source": [
    "# read in a random L5 dwarf\n",
    "sp = splat.getSpectrum(spt='L5',lucky=True)[0]\n",
    "sp.plot()"
   ]
  },
  {
   "cell_type": "code",
   "execution_count": null,
   "metadata": {},
   "outputs": [],
   "source": [
    "# the easiest way to classify is to use classifyByStandard\n",
    "# this will take some time on the first go as it reads in the standards\n",
    "# the verbose command gives you additional feedback\n",
    "splat.classifyByStandard(sp,plot=True,verbose=True)"
   ]
  },
  {
   "cell_type": "code",
   "execution_count": null,
   "metadata": {},
   "outputs": [],
   "source": [
    "# here's what the standards are\n",
    "splat.STDS_DWARF_SPEX"
   ]
  },
  {
   "cell_type": "code",
   "execution_count": null,
   "metadata": {},
   "outputs": [],
   "source": [
    "# we can also vary how the classification is done\n",
    "# this uses the method of Kirkpatrick et al. 2010, limiting the scaling to the 0.9-1.4 micron region\n",
    "splat.classifyByStandard(sp,method='kirkpatrick',plot=True)"
   ]
  },
  {
   "cell_type": "code",
   "execution_count": null,
   "metadata": {},
   "outputs": [],
   "source": [
    "# there are other standard sets we can read in\n",
    "splat.initializeStandards(sd=True)\n",
    "splat.STDS_SD_SPEX"
   ]
  },
  {
   "cell_type": "code",
   "execution_count": null,
   "metadata": {},
   "outputs": [],
   "source": [
    "# try classifying a subdwarf with these\n",
    "#sp = splat.getSpectrum(spt='M7',subdwarf=True,lucky=True)[0]\n",
    "#splat.classifyByStandard(sp,method='kirkpatrick',plot=True)\n",
    "sp = splat.getSpectrum(spt='sdM8',subdwarf=True,lucky=True)[0]\n",
    "splat.classifyByStandard(sp,sd=True,plot=True)\n"
   ]
  },
  {
   "cell_type": "markdown",
   "metadata": {},
   "source": [
    "## Classify by indices\n",
    "\n",
    "You can also use spectral indices to classify spectra; these indices sample specific features, such as molecular absorption bands"
   ]
  },
  {
   "cell_type": "code",
   "execution_count": null,
   "metadata": {},
   "outputs": [],
   "source": [
    "# here's an example of measuring an existing set of indices\n",
    "# it return a dictionary with the index names conneting to the measurement & uncertainty\n",
    "sp = splat.getSpectrum(spt='L4',lucky=True)[0]\n",
    "sp.plot(ldwarf=True)\n",
    "splat.measureIndexSet(sp,set='burgasser')"
   ]
  },
  {
   "cell_type": "code",
   "execution_count": null,
   "metadata": {},
   "outputs": [],
   "source": [
    "# you can find what index sets are available, and their definitions, using this command\n",
    "spem.info_indices()"
   ]
  },
  {
   "cell_type": "code",
   "execution_count": null,
   "metadata": {},
   "outputs": [],
   "source": [
    "# Let's classify using the allers2013 set\n",
    "# this will return the mean type and uncertainty\n",
    "splat.classifyByIndex(sp,ref='allers',verbose=True)"
   ]
  },
  {
   "cell_type": "markdown",
   "metadata": {},
   "source": [
    "## Classify gravity\n",
    "\n",
    "Allers & Liu (2013) have published a gravity classification scheme that allows us to distinguish low-gravity (young) obejcts from high-gravity (old) objects"
   ]
  },
  {
   "cell_type": "code",
   "execution_count": null,
   "metadata": {},
   "outputs": [],
   "source": [
    "# grab a young spectrum\n",
    "sp = splat.getSpectrum(spt=['M9','L2'],lowg=True,snr=40,lucky=True)[0]\n",
    "sp.plot()"
   ]
  },
  {
   "cell_type": "code",
   "execution_count": null,
   "metadata": {},
   "outputs": [],
   "source": [
    "splat.classifyByStandard(sp,method='kirkpatrick',plot=True)"
   ]
  },
  {
   "cell_type": "code",
   "execution_count": null,
   "metadata": {},
   "outputs": [],
   "source": [
    "splat.classifyGravity(sp,verbose=True)"
   ]
  },
  {
   "cell_type": "code",
   "execution_count": null,
   "metadata": {},
   "outputs": [],
   "source": [
    "splat.classifyByStandard(sp,lowg=True,plot=True)"
   ]
  },
  {
   "cell_type": "markdown",
   "metadata": {},
   "source": [
    "# Index measurement\n",
    "\n",
    "SPLAT has built-in functions to do index measurement, including literature-defined index sets and empirical relations to turn these into classifications"
   ]
  },
  {
   "cell_type": "code",
   "execution_count": 2,
   "metadata": {},
   "outputs": [
    {
     "name": "stdout",
     "output_type": "stream",
     "text": [
      "\n",
      "Retrieving 1 lucky file\n",
      "\n",
      "(0.3153425915861047, 0.009917961858947853)\n"
     ]
    }
   ],
   "source": [
    "# do a basic index measurement\n",
    "# read in a random T5\n",
    "sp = splat.getSpectrum(spt='T5',lucky=True)[0]\n",
    "\n",
    "# measure the ratio of two regions - first range is numerator second range is denominator\n",
    "ind = splat.measureIndex(sp,[[1.1,1.2],[1.22,1.32]],method='ratio',sample='integrate')\n",
    "print(ind)"
   ]
  },
  {
   "cell_type": "code",
   "execution_count": 3,
   "metadata": {},
   "outputs": [
    {
     "ename": "TypeError",
     "evalue": "'float' object is not subscriptable",
     "output_type": "error",
     "traceback": [
      "\u001b[0;31m---------------------------------------------------------------------------\u001b[0m",
      "\u001b[0;31mTypeError\u001b[0m                                 Traceback (most recent call last)",
      "\u001b[0;32m<ipython-input-3-ad887cdd797b>\u001b[0m in \u001b[0;36m<module>\u001b[0;34m\u001b[0m\n\u001b[1;32m      1\u001b[0m \u001b[0;31m# you can visualize the placement of these indices by setting plot=True\u001b[0m\u001b[0;34m\u001b[0m\u001b[0;34m\u001b[0m\u001b[0;34m\u001b[0m\u001b[0m\n\u001b[1;32m      2\u001b[0m \u001b[0;31m# NOTE: this is throwing some errors\u001b[0m\u001b[0;34m\u001b[0m\u001b[0;34m\u001b[0m\u001b[0;34m\u001b[0m\u001b[0m\n\u001b[0;32m----> 3\u001b[0;31m \u001b[0mind\u001b[0m \u001b[0;34m=\u001b[0m \u001b[0msplat\u001b[0m\u001b[0;34m.\u001b[0m\u001b[0mmeasureIndex\u001b[0m\u001b[0;34m(\u001b[0m\u001b[0msp\u001b[0m\u001b[0;34m,\u001b[0m\u001b[0;34m[\u001b[0m\u001b[0;34m[\u001b[0m\u001b[0;36m1.1\u001b[0m\u001b[0;34m,\u001b[0m\u001b[0;36m1.2\u001b[0m\u001b[0;34m]\u001b[0m\u001b[0;34m,\u001b[0m\u001b[0;34m[\u001b[0m\u001b[0;36m1.22\u001b[0m\u001b[0;34m,\u001b[0m\u001b[0;36m1.32\u001b[0m\u001b[0;34m]\u001b[0m\u001b[0;34m]\u001b[0m\u001b[0;34m,\u001b[0m\u001b[0mmethod\u001b[0m\u001b[0;34m=\u001b[0m\u001b[0;34m'ratio'\u001b[0m\u001b[0;34m,\u001b[0m\u001b[0msample\u001b[0m\u001b[0;34m=\u001b[0m\u001b[0;34m'integrate'\u001b[0m\u001b[0;34m,\u001b[0m\u001b[0mplot\u001b[0m\u001b[0;34m=\u001b[0m\u001b[0;32mTrue\u001b[0m\u001b[0;34m)\u001b[0m\u001b[0;34m\u001b[0m\u001b[0;34m\u001b[0m\u001b[0m\n\u001b[0m",
      "\u001b[0;32m~/projects/splat/code/splat/splat/core.py\u001b[0m in \u001b[0;36mmeasureIndex\u001b[0;34m(sp, ranges, method, sample, nsamples, noiseFlag, plot, verbose, **pkwargs)\u001b[0m\n\u001b[1;32m   7466\u001b[0m             \u001b[0minddict\u001b[0m \u001b[0;34m=\u001b[0m \u001b[0;34m{\u001b[0m\u001b[0mpkwargs\u001b[0m\u001b[0;34m.\u001b[0m\u001b[0mget\u001b[0m\u001b[0;34m(\u001b[0m\u001b[0;34m'name'\u001b[0m\u001b[0;34m,\u001b[0m\u001b[0;34m'Index'\u001b[0m\u001b[0;34m)\u001b[0m\u001b[0;34m:\u001b[0m \u001b[0;34m{\u001b[0m\u001b[0;34m'ranges'\u001b[0m\u001b[0;34m:\u001b[0m \u001b[0mbands\u001b[0m\u001b[0;34m,\u001b[0m \u001b[0;34m'value'\u001b[0m\u001b[0;34m:\u001b[0m \u001b[0mvalue\u001b[0m\u001b[0;34m}\u001b[0m\u001b[0;34m}\u001b[0m\u001b[0;34m\u001b[0m\u001b[0;34m\u001b[0m\u001b[0m\n\u001b[1;32m   7467\u001b[0m     \u001b[0;31m#        visualizeIndices(sp,inddict,**kwargs)\u001b[0m\u001b[0;34m\u001b[0m\u001b[0;34m\u001b[0m\u001b[0;34m\u001b[0m\u001b[0m\n\u001b[0;32m-> 7468\u001b[0;31m             \u001b[0mplotSpectrum\u001b[0m\u001b[0;34m(\u001b[0m\u001b[0msp\u001b[0m\u001b[0;34m,\u001b[0m\u001b[0mbands\u001b[0m\u001b[0;34m=\u001b[0m\u001b[0mbands\u001b[0m\u001b[0;34m,\u001b[0m\u001b[0mbandlabels\u001b[0m\u001b[0;34m=\u001b[0m\u001b[0;34m[\u001b[0m\u001b[0mpkwargs\u001b[0m\u001b[0;34m.\u001b[0m\u001b[0mget\u001b[0m\u001b[0;34m(\u001b[0m\u001b[0;34m'name'\u001b[0m\u001b[0;34m,\u001b[0m\u001b[0;34m''\u001b[0m\u001b[0;34m)\u001b[0m \u001b[0;32mfor\u001b[0m \u001b[0mb\u001b[0m \u001b[0;32min\u001b[0m \u001b[0mbands\u001b[0m\u001b[0;34m]\u001b[0m\u001b[0;34m,\u001b[0m\u001b[0;34m**\u001b[0m\u001b[0mpkwargs\u001b[0m\u001b[0;34m)\u001b[0m\u001b[0;34m\u001b[0m\u001b[0;34m\u001b[0m\u001b[0m\n\u001b[0m\u001b[1;32m   7469\u001b[0m \u001b[0;34m\u001b[0m\u001b[0m\n\u001b[1;32m   7470\u001b[0m \u001b[0;31m# output mean, standard deviation\u001b[0m\u001b[0;34m\u001b[0m\u001b[0;34m\u001b[0m\u001b[0;34m\u001b[0m\u001b[0m\n",
      "\u001b[0;32m~/projects/splat/code/splat/splat/plot.py\u001b[0m in \u001b[0;36mplotSpectrum\u001b[0;34m(inp, xrng, yrng, xlabel, ylabel, xlog, ylog, grid, legend, legend_location, fontscale, legend_fontscale, title, color, colormap, linestyle, linewidth, alpha, show_noise, color_noise, linestyle_noise, linewidth_noise, alpha_noise, comparison, color_comparison, linestyle_comparison, linewidth_comparison, alpha_comparison, residual, color_residual, linestyle_residual, linewidth_residual, alpha_residual, telluric, color_telluric, linestyle_telluric, linewidth_telluric, alpha_telluric, features, mdwarf, ldwarf, tdwarf, young, binary, nsamples, band, band_color, band_alpha, band_label, band_label_position, band_width, show_zero, stack, zeropoint, color_zero, linestyle_zero, linewidth_zero, alpha_zero, inset, inset_xrange, inset_yrange, inset_position, inset_features, output, multiplot, multipage, layout, figsize, tight, interactive, **kwargs)\u001b[0m\n\u001b[1;32m    736\u001b[0m                         \u001b[0mprint\u001b[0m\u001b[0;34m(\u001b[0m\u001b[0;34m'\\nWarning: plotSpectrum bands variables should be array of 2-element arrays; you passed {}'\u001b[0m\u001b[0;34m.\u001b[0m\u001b[0mformat\u001b[0m\u001b[0;34m(\u001b[0m\u001b[0mband\u001b[0m\u001b[0;34m)\u001b[0m\u001b[0;34m)\u001b[0m\u001b[0;34m\u001b[0m\u001b[0;34m\u001b[0m\u001b[0m\n\u001b[1;32m    737\u001b[0m                         \u001b[0mb\u001b[0m \u001b[0;34m=\u001b[0m \u001b[0;34m[\u001b[0m\u001b[0;36m0.\u001b[0m\u001b[0;34m,\u001b[0m\u001b[0;36m0.\u001b[0m\u001b[0;34m]\u001b[0m\u001b[0;34m\u001b[0m\u001b[0;34m\u001b[0m\u001b[0m\n\u001b[0;32m--> 738\u001b[0;31m                 \u001b[0mrect\u001b[0m \u001b[0;34m=\u001b[0m \u001b[0mpatches\u001b[0m\u001b[0;34m.\u001b[0m\u001b[0mRectangle\u001b[0m\u001b[0;34m(\u001b[0m\u001b[0;34m(\u001b[0m\u001b[0mb\u001b[0m\u001b[0;34m[\u001b[0m\u001b[0;36m0\u001b[0m\u001b[0;34m]\u001b[0m\u001b[0;34m,\u001b[0m\u001b[0mbound\u001b[0m\u001b[0;34m[\u001b[0m\u001b[0;36m2\u001b[0m\u001b[0;34m]\u001b[0m\u001b[0;34m)\u001b[0m\u001b[0;34m,\u001b[0m\u001b[0mb\u001b[0m\u001b[0;34m[\u001b[0m\u001b[0;36m1\u001b[0m\u001b[0;34m]\u001b[0m\u001b[0;34m-\u001b[0m\u001b[0mb\u001b[0m\u001b[0;34m[\u001b[0m\u001b[0;36m0\u001b[0m\u001b[0;34m]\u001b[0m\u001b[0;34m,\u001b[0m\u001b[0mbound\u001b[0m\u001b[0;34m[\u001b[0m\u001b[0;36m3\u001b[0m\u001b[0;34m]\u001b[0m\u001b[0;34m-\u001b[0m\u001b[0mbound\u001b[0m\u001b[0;34m[\u001b[0m\u001b[0;36m2\u001b[0m\u001b[0;34m]\u001b[0m\u001b[0;34m,\u001b[0m\u001b[0mfacecolor\u001b[0m\u001b[0;34m=\u001b[0m\u001b[0mband_color\u001b[0m\u001b[0;34m[\u001b[0m\u001b[0mi\u001b[0m\u001b[0;34m]\u001b[0m\u001b[0;34m,\u001b[0m\u001b[0mcolor\u001b[0m\u001b[0;34m=\u001b[0m\u001b[0mband_color\u001b[0m\u001b[0;34m[\u001b[0m\u001b[0mi\u001b[0m\u001b[0;34m]\u001b[0m\u001b[0;34m,\u001b[0m\u001b[0malpha\u001b[0m\u001b[0;34m=\u001b[0m\u001b[0mband_alpha\u001b[0m\u001b[0;34m[\u001b[0m\u001b[0mi\u001b[0m\u001b[0;34m]\u001b[0m\u001b[0;34m)\u001b[0m\u001b[0;34m\u001b[0m\u001b[0;34m\u001b[0m\u001b[0m\n\u001b[0m\u001b[1;32m    739\u001b[0m                 \u001b[0max\u001b[0m\u001b[0;34m.\u001b[0m\u001b[0madd_patch\u001b[0m\u001b[0;34m(\u001b[0m\u001b[0mrect\u001b[0m\u001b[0;34m)\u001b[0m\u001b[0;34m\u001b[0m\u001b[0;34m\u001b[0m\u001b[0m\n\u001b[1;32m    740\u001b[0m                 \u001b[0;32mif\u001b[0m \u001b[0mband_label_position\u001b[0m\u001b[0;34m[\u001b[0m\u001b[0mi\u001b[0m\u001b[0;34m]\u001b[0m\u001b[0;34m.\u001b[0m\u001b[0mlower\u001b[0m\u001b[0;34m(\u001b[0m\u001b[0;34m)\u001b[0m \u001b[0;34m==\u001b[0m \u001b[0;34m'top'\u001b[0m\u001b[0;34m:\u001b[0m\u001b[0;34m\u001b[0m\u001b[0;34m\u001b[0m\u001b[0m\n",
      "\u001b[0;31mTypeError\u001b[0m: 'float' object is not subscriptable"
     ]
    },
    {
     "data": {
      "image/png": "[encoded data removed]",
      "text/plain": [
       "<Figure size 432x288 with 1 Axes>"
      ]
     },
     "metadata": {
      "needs_background": "light"
     },
     "output_type": "display_data"
    }
   ],
   "source": [
    "# you can visualize the placement of these indices by setting plot=True\n",
    "# NOTE: THIS IS CURRENTLY THROWING ERRORS SO DON'T RUN!\n",
    "\n",
    "#ind = splat.measureIndex(sp,[[1.1,1.2],[1.22,1.32]],method='ratio',sample='integrate',plot=True)\n"
   ]
  },
  {
   "cell_type": "code",
   "execution_count": 4,
   "metadata": {},
   "outputs": [
    {
     "name": "stdout",
     "output_type": "stream",
     "text": [
      "Index CH4-J: 0.378+/-0.008\n",
      "Index CH4-H: 0.433+/-0.022\n",
      "Index CH4-K: 0.241+/-0.035\n",
      "Index H2O-J: 0.213+/-0.009\n",
      "Index H2O-H: 0.236+/-0.024\n",
      "Index H2O-K: 0.514+/-0.030\n",
      "Index K/J: 0.179+/-0.006\n",
      "Index H-dip: 0.738+/-0.031\n"
     ]
    },
    {
     "data": {
      "text/plain": [
       "{'CH4-J': (0.37798163306832444, 0.007951188154590316),\n",
       " 'CH4-H': (0.4326667323003072, 0.0220122789131133),\n",
       " 'CH4-K': (0.24115678578055139, 0.034687711618609174),\n",
       " 'H2O-J': (0.21291488945990375, 0.008865507790946792),\n",
       " 'H2O-H': (0.23573048282158113, 0.02438157376641304),\n",
       " 'H2O-K': (0.5136790486190537, 0.03003471994818528),\n",
       " 'K/J': (0.17878804602902523, 0.005553741059789355),\n",
       " 'H-dip': (0.737649385051603, 0.031094179806192855)}"
      ]
     },
     "execution_count": 4,
     "metadata": {},
     "output_type": "execute_result"
    }
   ],
   "source": [
    "# measure an index set that is pre-defined in the literature\n",
    "# this returns a dictionary of values\n",
    "splat.measureIndexSet(sp,ref='burgasser',verbose=True)"
   ]
  },
  {
   "cell_type": "code",
   "execution_count": 5,
   "metadata": {},
   "outputs": [
    {
     "name": "stdout",
     "output_type": "stream",
     "text": [
      "\n",
      "Index sets currently installed in SPLAT:\n",
      "\n",
      "allers2013: 2013ApJ...772...79A\n",
      "\tH2O: [1.55-1.56] / [1.492-1.502]\n",
      "\tFeH-z: ([0.99135-1.00465] - [0.97335-0.98665]) / ([1.01535-1.02865] - [0.97335-0.98665]) + ([1.01535-1.02865] - [0.99135-1.00465]) / ([1.01535-1.02865] - [0.97335-0.98665]) + \n",
      "\tVO-z: ([1.05095-1.06505] - [1.02795-1.04205]) / ([1.07995-1.09405] - [1.02795-1.04205]) + ([1.07995-1.09405] - [1.05095-1.06505]) / ([1.07995-1.09405] - [1.02795-1.04205]) + \n",
      "\tFeH-J: ([1.1988-1.2012] - [1.1908-1.1932]) / ([1.2068-1.2092] - [1.1908-1.1932]) + ([1.2068-1.2092] - [1.1988-1.2012]) / ([1.2068-1.2092] - [1.1908-1.1932]) + \n",
      "\tKI-J: ([1.2357-1.2523] - [1.2117-1.2283]) / ([1.2617-1.2783] - [1.2117-1.2283]) + ([1.2617-1.2783] - [1.2357-1.2523]) / ([1.2617-1.2783] - [1.2117-1.2283]) + \n",
      "\tH-cont: ([1.5496-1.5704] - [1.4596-1.4804]) / ([1.6596-1.6804] - [1.4596-1.4804]) + ([1.6596-1.6804] - [1.5496-1.5704]) / ([1.6596-1.6804] - [1.4596-1.4804]) + \n",
      "burgasser2006: 2006ApJ...637.1067B\n",
      "\tCH4-J: [1.315-1.335] / [1.26-1.285]\n",
      "\tCH4-H: [1.635-1.675] / [1.56-1.6]\n",
      "\tCH4-K: [2.215-2.255] / [2.08-2.12]\n",
      "\tH2O-J: [1.14-1.165] / [1.26-1.285]\n",
      "\tH2O-H: [1.48-1.52] / [1.56-1.6]\n",
      "\tH2O-K: [1.975-1.995] / [2.08-2.1]\n",
      "\tK/J: [2.06-2.1] / [1.25-1.29]\n",
      "\tH-dip: 2 [1.61-1.64] / ([1.56-1.59] + [1.66-1.69])\n",
      "bardalez2014: 2014ApJ...794..143B\n",
      "\tH2O-J: [1.14-1.165] / [1.26-1.285]\n",
      "\tCH4-J: [1.315-1.335] / [1.26-1.285]\n",
      "\tH2O-H: [1.48-1.52] / [1.56-1.6]\n",
      "\tCH4-H: [1.635-1.675] / [1.56-1.6]\n",
      "\tH2O-K: [1.975-1.995] / [2.08-2.12]\n",
      "\tCH4-K: [2.215-2.255] / [2.08-2.12]\n",
      "\tK/J: [2.06-2.1] / [1.25-1.29]\n",
      "\tH-dip: 2 [1.61-1.64] / ([1.56-1.59] + [1.66-1.69])\n",
      "\tK-slope: [2.06-2.1] / [2.1-2.14]\n",
      "\tJ-slope: [1.27-1.3] / [1.3-1.33]\n",
      "\tJ-curve: 0.5 ([1.04-1.07] + [1.26-1.29]) / [1.14-1.17]\n",
      "\tH-bump: [1.14-1.165] / [1.26-1.285]\n",
      "\tH2O-Y: [1.04-1.07] / [1.14-1.17]\n",
      "covey2010: 2010ApJ...722..971C\n",
      "\tH2O-H: [1.595-1.615]/[1.68-1.7] / [1.68-1.7]/[1.76-1.78]\n",
      "\tH2O-K: [2.18-2.2]/[2.27-2.29] / [2.27-2.29]/[2.36-2.38]\n",
      "geballe2002: 2002ApJ...564..466G\n",
      "\tColor-d2: [0.96-0.98] / [0.735-0.755]\n",
      "\tCont-1.0: [1.04-1.05] / [0.875-0.885]\n",
      "\tH2O-1.2: [1.26-1.29] / [1.13-1.16]\n",
      "\tH2O-1.5: [1.57-1.59] / [1.46-1.48]\n",
      "\tH2O-2.2: [2.09-2.11] / [1.975-1.995]\n",
      "\tCH4-1.6: [1.56-1.6] / [1.635-1.675]\n",
      "\tCH4-2.2: [2.08-2.12] / [2.215-2.255]\n",
      "kirkpatrick1999: 1999ApJ...519..802K\n",
      "\tRb-a: 0.5 ([0.77752-0.77852] + [0.78152-0.78252]) / [0.77952-0.78052]\n",
      "\tRb-b: 0.5 ([0.79226-0.79326] + [0.79626-0.79726]) / [0.79426-0.79526]\n",
      "\tNa-a: [0.81533-0.81633] / [0.81783-0.81883]\n",
      "\tNa-b: [0.81533-0.81633] / [0.81898-0.81998]\n",
      "\tCs-a: 0.5 ([0.84961-0.85061] + [0.85361-0.85461]) / [0.85161-0.85261]\n",
      "\tCs-b: 0.5 ([0.89185-0.89285] + [0.89583-0.89683]) / [0.89385-0.89485]\n",
      "\tTiO-a: [0.7033-0.7048] / [0.7058-0.7073]\n",
      "\tTiO-b: [0.84-0.8415] / [0.8435-0.847]\n",
      "\tVO-a: ([0.735-0.737] + [0.755-0.757]) / [0.743-0.747]\n",
      "\tVO-b: ([0.786-0.788] + [0.808-0.81]) / [0.796-0.8]\n",
      "\tCrH-a: [0.858-0.86] / [0.8621-0.8641]\n",
      "\tCrH-b: [0.994-0.996] / [0.997-0.999]\n",
      "\tFeH-a: [0.866-0.868] / [0.87-0.872]\n",
      "\tFeH-b: [0.9863-0.9883] / [0.9908-0.9928]\n",
      "\tColor-a: [0.98-0.985] / [0.73-0.735]\n",
      "\tColor-b: [0.98-0.985] / [0.7-0.705]\n",
      "\tColor-c: [0.98-0.985] / [0.81-0.815]\n",
      "\tColor-d: [0.9675-0.985] / [0.735-0.755]\n",
      "mann2013: 2013AJ....145...52M\n",
      "\tH2O-J: [1.21-1.23]/[1.313-1.333] / [1.313-1.333]/[1.311-1.351]\n",
      "martin1999: 1999AJ....118.2466M\n",
      "\tPC3: [0.823-0.827] / [0.754-0.758]\n",
      "\tPC6: [0.909-0.913] / [0.65-0.654]\n",
      "\tCrH1: [0.856-0.86] / [0.861-0.865]\n",
      "\tCrH2: [0.984-0.988] / [0.997-1.001]\n",
      "\tFeH1: [0.856-0.86] / [0.8685-0.8725]\n",
      "\tFeH2: [0.984-0.988] / [0.99-0.994]\n",
      "\tH2O1: [0.919-0.923] / [0.928-0.932]\n",
      "\tTiO1: [0.7-0.704] / [0.706-0.71]\n",
      "\tTiO2: [0.838-0.842] / [0.844-0.848]\n",
      "\tVO1: [0.754-0.758] / [0.742-0.746]\n",
      "\tVO2: [0.799-0.803] / [0.79-0.794]\n",
      "mclean2003: 2003ApJ...596..561M\n",
      "\tH2OD: [1.951-1.977] / [2.062-2.088]\n",
      "reid2001: 2001AJ....121.1710R\n",
      "\tH2O-A: [1.33-1.35] / [1.28-1.3]\n",
      "\tH2O-B: [1.47-1.49] / [1.59-1.61]\n",
      "rojas2012: 2012ApJ...748...93R\n",
      "\tH2O-K2: [2.07-2.09]/[2.235-2.255] / [2.235-2.255]/[2.36-2.38]\n",
      "slesnick2004: 2004ApJ...610.1045S\n",
      "\tH2O-1: [1.335-1.345] / [1.295-1.305]\n",
      "\tH2O-2: [2.035-2.045] / [2.145-2.155]\n",
      "\tFeH: [1.1935-1.2065] / [1.2235-1.2365]\n",
      "testi2001: 2001ApJ...552L.147T\n",
      "\tsHJ: 2 ([1.265-1.305]-[1.6-1.7]) / ([1.265-1.305] + [1.6-1.7])\n",
      "\tsKJ: 2 ([1.265-1.305]-[2.12-2.16]) / ([1.265-1.305] + [2.12-2.16])\n",
      "\tsH2O_J: 2 ([1.265-1.305]-[1.09-1.13]) / ([1.265-1.305] + [1.09-1.13])\n",
      "\tsH2O_H1: 2 ([1.6-1.7]-[1.45-1.48]) / ([1.6-1.7] + [1.45-1.48])\n",
      "\tsH2O_H2: 2 ([1.6-1.7]-[1.77-1.81]) / ([1.6-1.7] + [1.77-1.81])\n",
      "\tsH2O_K: 2 ([2.12-2.16]-[1.96-1.99]) / ([2.12-2.16] + [1.96-1.99])\n",
      "tokunaga1999: 1999AJ....117.1010T\n",
      "\tK1: 2 ([2.1-2.18]-[1.96-2.04]) / ([2.1-2.18] + [1.96-2.04])\n",
      "\tK2: 2 ([2.2-2.28]-[2.1-2.18]) / ([2.2-2.28] + [2.1-2.18])\n"
     ]
    }
   ],
   "source": [
    "# there is a handy information function to find out what index sets are currently included\n",
    "spem.info_indices()"
   ]
  },
  {
   "cell_type": "code",
   "execution_count": 6,
   "metadata": {},
   "outputs": [
    {
     "name": "stdout",
     "output_type": "stream",
     "text": [
      "Using burgasser2007 index classification method\n",
      "Index CH4-J: 0.378+/-0.006\n",
      "Index CH4-H: 0.433+/-0.019\n",
      "Index CH4-K: 0.241+/-0.036\n",
      "Index H2O-J: 0.213+/-0.010\n",
      "Index H2O-H: 0.236+/-0.022\n",
      "Index H2O-K: 0.514+/-0.027\n",
      "Index K/J: 0.179+/-0.006\n",
      "Index H-dip: 0.738+/-0.032\n",
      "H2O-J = 0.213+/-0.010 = SpT = T5.2+/-0.8\n",
      "H2O-H = 0.236+/-0.022 = SpT = T7.3+/-1.0\n",
      "CH4-J = 0.378+/-0.006 = SpT = T4.6+/-0.7\n",
      "CH4-H = 0.433+/-0.019 = SpT = T5.0+/-0.3\n",
      "CH4-K = 0.241+/-0.036 = SpT = T4.8+/-1.2\n",
      "* = not included in classification\n"
     ]
    },
    {
     "data": {
      "text/plain": [
       "('T5.1', 0.2607253767323139)"
      ]
     },
     "execution_count": 6,
     "metadata": {},
     "output_type": "execute_result"
    }
   ],
   "source": [
    "# you can use these indices to classify an object\n",
    "splat.classifyByIndex(sp,ref='burgasser',verbose=True)"
   ]
  },
  {
   "cell_type": "code",
   "execution_count": 7,
   "metadata": {},
   "outputs": [
    {
     "name": "stdout",
     "output_type": "stream",
     "text": [
      "\n",
      "Retrieving 1 lucky file\n",
      "\n",
      "\n",
      "Gravity Classification:\n",
      "\tSpT = M9.0\n",
      "\tFeH-z: 0.953+/-0.021 => 2.0\n",
      "\tVO-z: 1.142+/-0.016 => nan\n",
      "\tKI-J: 1.041+/-0.011 => 2.0\n",
      "\tH-cont: 1.035+/-0.012 => 2.0\n",
      "\tGravity Class = VL-G\n",
      "\n"
     ]
    },
    {
     "data": {
      "text/plain": [
       "'VL-G'"
      ]
     },
     "execution_count": 7,
     "metadata": {},
     "output_type": "execute_result"
    }
   ],
   "source": [
    "# indices are also used for gravity classification of young sources\n",
    "sp = splat.getSpectrum(spt='L2',young=True,lucky=True)[0]\n",
    "splat.classifyGravity(sp,verbose=True)"
   ]
  },
  {
   "cell_type": "code",
   "execution_count": 14,
   "metadata": {},
   "outputs": [
    {
     "data": {
      "image/png": "[encoded data removed]",
      "text/plain": [
       "<Figure size 432x288 with 1 Axes>"
      ]
     },
     "metadata": {
      "needs_background": "light"
     },
     "output_type": "display_data"
    },
    {
     "data": {
      "text/plain": [
       "('sdM7.0', 0.5)"
      ]
     },
     "execution_count": 14,
     "metadata": {},
     "output_type": "execute_result"
    },
    {
     "data": {
      "text/plain": [
       "<Figure size 432x288 with 0 Axes>"
      ]
     },
     "metadata": {},
     "output_type": "display_data"
    }
   ],
   "source": [
    "# you can compare to alternate standards as well\n",
    "# this command compares to a suite of subdwarf standards\n",
    "splat.classifyByStandard(sp2,plot=True,sd=True)"
   ]
  },
  {
   "cell_type": "code",
   "execution_count": null,
   "metadata": {},
   "outputs": [],
   "source": [
    "# this command compares to a suite of low gravity standards\n",
    "splat.classifyByStandard(sp2,plot=True,vlg=True)"
   ]
  },
  {
   "cell_type": "markdown",
   "metadata": {},
   "source": [
    "# Exercise\n",
    "\n",
    "Here's a real science case: we're going to analyze the spectrum of a known unresolved binary, 2MASS J0518-2828, by measuring its indices, comparing to spectral standards, and then comparing to a binary template constructed from two differently-classified sources (L5 and T5) that are scaled to their spectral type-based absolute J-band magnitudes. The outline of this exercise is in the next few cells; the solution is provided below"
   ]
  },
  {
   "cell_type": "code",
   "execution_count": null,
   "metadata": {},
   "outputs": [],
   "source": [
    "# first read in the spectrum of 2MASS J0518-2828 by seaching on the shortname 'J0518-2828'\n",
    "[enter code here]"
   ]
  },
  {
   "cell_type": "code",
   "execution_count": null,
   "metadata": {},
   "outputs": [],
   "source": [
    "# measure the spectral indices from burgasser et al.\n",
    "[enter code here]"
   ]
  },
  {
   "cell_type": "code",
   "execution_count": null,
   "metadata": {},
   "outputs": [],
   "source": [
    "# determine the spectral type using the kirkpatrick method\n",
    "[enter code here]"
   ]
  },
  {
   "cell_type": "code",
   "execution_count": null,
   "metadata": {},
   "outputs": [],
   "source": [
    "# read in spectral templates for the primary and secondary types\n",
    "[enter code here]"
   ]
  },
  {
   "cell_type": "code",
   "execution_count": null,
   "metadata": {},
   "outputs": [],
   "source": [
    "# the absolute magnitudes of these types come from the function splat.empirical.typeToMag\n",
    "mag_L5 = spem.typeToMag('L5','2MASS J',set='filippazzo')[0]\n",
    "mag_T5 = spem.typeToMag('T5','2MASS J',set='filippazzo')[0]\n",
    "print(mag_L5,mag_T5)\n",
    "\n",
    "# now use the magnitudes to scale the template spectra\n",
    "[enter here]"
   ]
  },
  {
   "cell_type": "code",
   "execution_count": null,
   "metadata": {},
   "outputs": [],
   "source": [
    "# add the template spectra together to make a binary template\n",
    "[enter code here]"
   ]
  },
  {
   "cell_type": "code",
   "execution_count": null,
   "metadata": {},
   "outputs": [],
   "source": [
    "# now compare the binary template and J0518-2828 spectrum using compareSpectra, and plot the result\n",
    "[enter code here]"
   ]
  },
  {
   "cell_type": "code",
   "execution_count": null,
   "metadata": {},
   "outputs": [],
   "source": [
    "# BONUS: do the above steps a few times until you get a \"best\" fit, and plot the \n",
    "# appropriately scaled primary, secondary, binary templates and J0518-2828, and\n",
    "# and the difference between J0518-2828 and the binary template to compare them\n",
    "[enter code here]"
   ]
  },
  {
   "cell_type": "markdown",
   "metadata": {},
   "source": [
    "# Exercise Solution"
   ]
  },
  {
   "cell_type": "code",
   "execution_count": null,
   "metadata": {},
   "outputs": [],
   "source": [
    "# read in spectrum of known spectral binary\n",
    "sp = splat.getSpectrum(shortname='J0518-2828')[0]\n",
    "sp.normalize()\n",
    "sp.plot()"
   ]
  },
  {
   "cell_type": "code",
   "execution_count": null,
   "metadata": {},
   "outputs": [],
   "source": [
    "# indices\n",
    "splat.measureIndexSet(sp,'burgasser',verbose=True)\n"
   ]
  },
  {
   "cell_type": "code",
   "execution_count": null,
   "metadata": {},
   "outputs": [],
   "source": [
    "# classification\n",
    "spt,spt_e = splat.classifyByStandard(sp,plot=True)\n",
    "print('\\nSpectral types: {}+/-{}'.format(spt,spt_e))\n"
   ]
  },
  {
   "cell_type": "code",
   "execution_count": null,
   "metadata": {},
   "outputs": [],
   "source": [
    "# read in template spectra\n",
    "sp1 = splat.getSpectrum(spt='L5',snr=20,binary=False,lucky=True)[0]\n",
    "sp2 = splat.getSpectrum(spt='T5',snr=20,binary=False,lucky=True)[0]\n",
    "\n",
    "# get the right magnitudes from an empirical relation of Filippazzo et al. (2015)\n",
    "# this returns the value and uncertainty\n",
    "mag_L5 = spem.typeToMag('L5','2MASS J',set='filippazzo')[0]\n",
    "mag_T5 = spem.typeToMag('T5','2MASS J',set='filippazzo')[0]\n",
    "print('\\nL5 M_J = {}, T5 M_J = {}'.format(mag_L5,mag_T5))\n"
   ]
  },
  {
   "cell_type": "code",
   "execution_count": null,
   "metadata": {},
   "outputs": [],
   "source": [
    "# scale the spectra\n",
    "sp1.fluxCalibrate('2MASS J',mag_L5,absolute=True)\n",
    "sp2.fluxCalibrate('2MASS J',mag_T5,absolute=True)\n",
    "\n",
    "# add them to make a binary\n",
    "sp3 = sp1+sp2\n",
    "sp3.plot()"
   ]
  },
  {
   "cell_type": "code",
   "execution_count": null,
   "metadata": {},
   "outputs": [],
   "source": [
    "# do an initial compareSpectra to get the scale factors\n",
    "chi,scl_std = splat.compareSpectra(sp,splat.STDS_DWARF_SPEX[spt])\n",
    "chi,scl_binary = splat.compareSpectra(sp,sp3)\n",
    "sp3.scale(scl_binary)\n"
   ]
  },
  {
   "cell_type": "code",
   "execution_count": null,
   "metadata": {},
   "outputs": [],
   "source": [
    "# read in spectrum of known spectral binary\n",
    "sp = splat.getSpectrum(shortname='J0518-2828')[0]\n",
    "sp.normalize()\n",
    "\n",
    "# indices\n",
    "splat.measureIndexSet(sp,'burgasser',verbose=True)\n",
    "\n",
    "# classification\n",
    "spt,spt_e = splat.classifyByStandard(sp)\n",
    "print('\\nSpectral types: {}+/-{}'.format(spt,spt_e))\n",
    "\n",
    "# read in template spectra\n",
    "sp1 = splat.getSpectrum(spt='L5',snr=20,binary=False,lucky=True)[0]\n",
    "sp2 = splat.getSpectrum(spt='T5',snr=20,binary=False,lucky=True)[0]\n",
    "\n",
    "# get the right magnitudes from an empirical relation of Filippazzo et al. (2015)\n",
    "# this returns the value and uncertainty\n",
    "mag_L5 = spem.typeToMag('L5','2MASS J',set='filippazzo')[0]\n",
    "mag_T5 = spem.typeToMag('T5','2MASS J',set='filippazzo')[0]\n",
    "print('\\nL5 M_J = {}, T5 M_J = {}'.format(mag_L5,mag_T5))\n",
    "\n",
    "# scale the spectra\n",
    "sp1.fluxCalibrate('2MASS J',mag_L5,absolute=True)\n",
    "sp2.fluxCalibrate('2MASS J',mag_T5,absolute=True)\n",
    "\n",
    "# add them to make a binary\n",
    "sp3 = sp1+sp2\n",
    "\n",
    "# do an initial compareSpectra to get the scale factors\n",
    "chi,scl_std = splat.compareSpectra(sp,splat.STDS_DWARF_SPEX[spt])\n",
    "chi,scl_binary = splat.compareSpectra(sp,sp3)\n",
    "\n",
    "# compute the difference\n",
    "spdiff = sp-sp3\n",
    "\n",
    "# visualize the results\n",
    "plt.figure(figsize=[6,8])\n",
    "plt.subplot(211)\n",
    "plt.plot(sp.wave,sp.flux,'k-')\n",
    "plt.plot(splat.STDS_DWARF_SPEX[spt].wave,splat.STDS_DWARF_SPEX[spt].flux*scl_std,'b-')\n",
    "plt.legend(['J0518-2828',spt])\n",
    "plt.ylim([0,np.nanquantile(sp.flux.value,0.98)*1.5])\n",
    "plt.xlim([0.8,2.4])\n",
    "plt.ylabel('Normalized Flux Density')\n",
    "\n",
    "plt.subplot(212)\n",
    "plt.plot(sp.wave,sp.flux,'k-')\n",
    "plt.plot(sp1.wave,sp1.flux*scl_binary,'m-')\n",
    "plt.plot(sp2.wave,sp2.flux*scl_binary,'b-')\n",
    "plt.plot(sp3.wave,sp3.flux*scl_binary,'g-')\n",
    "plt.legend(['J0518-2828','L5','T5','L5+T5'])\n",
    "plt.ylim([0,np.nanquantile(sp.flux.value,0.98)*1.5])\n",
    "plt.xlim([0.8,2.4])\n",
    "plt.ylabel('Normalized Flux Density')\n",
    "plt.xlabel('Wavelength')\n",
    "\n",
    "\n"
   ]
  }
 ],
 "metadata": {
  "kernelspec": {
   "display_name": "Python 3",
   "language": "python",
   "name": "python3"
  },
  "language_info": {
   "codemirror_mode": {
    "name": "ipython",
    "version": 3
   },
   "file_extension": ".py",
   "mimetype": "text/x-python",
   "name": "python",
   "nbconvert_exporter": "python",
   "pygments_lexer": "ipython3",
   "version": "3.7.7"
  }
 },
 "nbformat": 4,
 "nbformat_minor": 2
}
