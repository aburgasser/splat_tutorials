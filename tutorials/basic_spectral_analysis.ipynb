{
 "cells": [
  {
   "cell_type": "markdown",
   "metadata": {},
   "source": [
    "# SPLAT Tutorials: Basic Spectral Analysis\n",
    "\n",
    "## Authors\n",
    "Adam Burgasser\n",
    "\n",
    "## Learning Goals\n",
    "* Read in a spectrum from the SPLAT database or externally (splat.searchLibrary, splat.getSpectrum)\n",
    "* Plot a spectrum (splat.Spectrum.plot)\n",
    "* Some basic manipulation of spectra - normalizing, scaling, trimming, changing units, spectral math (splat.Spectrum)\n",
    "* Flux calibrate a spectrum (splat.Spectrum.fluxCalibrate)\n",
    "* Measure spectrophotometry from a spectrum (splat.Spectrum.filterMage, splat.photometry.filterMag)\n",
    "* Measure a single and set of indices (splat.measureIndex, splat.measureIndexSet)\n",
    "* Use indices to infer a spectrum's spectral type (splat.classifyByIndex)\n",
    "* Compare a spectrum to another spectrum (splat.compareSpectrum)\n",
    "* Compare a spectrum a set of spectral standards (classifyByStandard)\n",
    "\n",
    "## Keywords\n",
    "spectral archive, spectral analysis, indices, classification\n",
    "\n",
    "## Companion Content\n",
    "None\n",
    "\n",
    "## Summary\n",
    "In this tutorial, we will examine how to draw a spectrum from the SPLAT library and conduct some basic spectral analyses to that object, including visualization, manipulation of the spectrum, using photometry to flux calibrate or measure the colors of a spectrum, measure spectral indices, and classification.\n"
   ]
  },
  {
   "cell_type": "markdown",
   "metadata": {},
   "source": [
    "# Starting off\n",
    "\n",
    "Let's make sure the code is properly downloaded through the import statements; see http://pono.ucsd.edu/~adam/browndwarfs/splat/ for more detail on the proper installation procedures"
   ]
  },
  {
   "cell_type": "code",
   "execution_count": null,
   "metadata": {},
   "outputs": [],
   "source": [
    "# main splat import\n",
    "import splat\n",
    "import splat.plot as splot\n",
    "import splat.photometry as sphot\n",
    "import splat.empirical as spem\n",
    "\n",
    "# other useful imports\n",
    "import matplotlib.pyplot as plt\n",
    "import numpy as np\n",
    "import pandas\n",
    "import astropy.units as u\n",
    "from astropy.io import fits\n",
    "from astropy.utils.data import download_file\n"
   ]
  },
  {
   "cell_type": "code",
   "execution_count": null,
   "metadata": {},
   "outputs": [],
   "source": [
    "# check what version you are using\n",
    "splat.VERSION"
   ]
  },
  {
   "cell_type": "code",
   "execution_count": null,
   "metadata": {},
   "outputs": [],
   "source": [
    "# check that you have some spectra in the library\n",
    "print(len(splat.DB_SPECTRA))"
   ]
  },
  {
   "cell_type": "code",
   "execution_count": null,
   "metadata": {},
   "outputs": [],
   "source": [
    "# who has contributed to this code?\n",
    "splat.AUTHORS"
   ]
  },
  {
   "cell_type": "markdown",
   "metadata": {},
   "source": [
    "# Reading in and visualizing spectra\n",
    "\n",
    "SPLAT contains a built-in library of published SpeX prism spectra of ultracool dwarfs. It is also possible to download additional spectral datasets and read in your own spectrum or a spectrum from an website. Once you've read a spectrum into a Spectrum object, you can use the built-in features to visualize the spectrum."
   ]
  },
  {
   "cell_type": "code",
   "execution_count": null,
   "metadata": {},
   "outputs": [],
   "source": [
    "# grab a random spectrum from the library and plot it\n",
    "# this produces a list of Spectrum objects so we want just the first one\n",
    "sp = splat.getSpectrum(lucky=True)[0]\n",
    "sp.plot()"
   ]
  },
  {
   "cell_type": "code",
   "execution_count": null,
   "metadata": {},
   "outputs": [],
   "source": [
    "# get some information about this spectrum using info()\n",
    "sp.info()"
   ]
  },
  {
   "cell_type": "code",
   "execution_count": null,
   "metadata": {},
   "outputs": [],
   "source": [
    "# grab a random L5 dwarf\n",
    "# this produces a list of Spectrum objects so we want just the first one\n",
    "sp = splat.getSpectrum(spt='L5', lucky=True)[0]\n",
    "sp.plot()"
   ]
  },
  {
   "cell_type": "code",
   "execution_count": null,
   "metadata": {},
   "outputs": [],
   "source": [
    "# grab a very specific spectrum based on its source ID\n",
    "sp = splat.Spectrum(10001)\n",
    "sp.plot()"
   ]
  },
  {
   "cell_type": "code",
   "execution_count": null,
   "metadata": {},
   "outputs": [],
   "source": [
    "# grab all the spectra of TWA 30A\n",
    "splist = splat.getSpectrum(name='TWA 30A')\n",
    "print(splist)\n",
    "for sp in splist: sp.plot()"
   ]
  },
  {
   "cell_type": "code",
   "execution_count": null,
   "metadata": {},
   "outputs": [],
   "source": [
    "# we can also search the library for spectra\n",
    "# this produces a pandas table of the relevant spectra\n",
    "s = splat.searchLibrary(name='TWA30B')\n",
    "s"
   ]
  },
  {
   "cell_type": "code",
   "execution_count": null,
   "metadata": {},
   "outputs": [],
   "source": [
    "# choose one of these spectra\n",
    "sp = splat.Spectrum(s['DATA_KEY'][1])\n",
    "sp.plot()"
   ]
  },
  {
   "cell_type": "code",
   "execution_count": null,
   "metadata": {},
   "outputs": [],
   "source": [
    "# read in a spectrum from an online fits file\n",
    "f = download_file('http://pono.ucsd.edu/~adam/data/spex_test/spex_prism_PSOJ0077921+578267_120924.fits')\n",
    "sp = splat.Spectrum(file=f,file_type='fits',name='PSOJ0077921+578267')\n",
    "sp.plot()"
   ]
  },
  {
   "cell_type": "markdown",
   "metadata": {},
   "source": [
    "# Spectrum manipulation\n",
    "\n",
    "There are many built-in features for manipulating a spectrum object"
   ]
  },
  {
   "cell_type": "code",
   "execution_count": null,
   "metadata": {},
   "outputs": [],
   "source": [
    "# grab a random T5 dwarf\n",
    "sp = splat.getSpectrum(spt='T5', lucky=True)[0]\n",
    "sp.plot()"
   ]
  },
  {
   "cell_type": "code",
   "execution_count": null,
   "metadata": {},
   "outputs": [],
   "source": [
    "# normalize the spectrum to maximum value\n",
    "sp.normalize()\n",
    "sp.plot()"
   ]
  },
  {
   "cell_type": "code",
   "execution_count": null,
   "metadata": {},
   "outputs": [],
   "source": [
    "# normalize over a specific region\n",
    "sp.normalize([1.5,1.7])\n",
    "sp.plot()"
   ]
  },
  {
   "cell_type": "code",
   "execution_count": null,
   "metadata": {},
   "outputs": [],
   "source": [
    "# multiple by a scale factor\n",
    "sp.scale(50)\n",
    "sp.plot()"
   ]
  },
  {
   "cell_type": "code",
   "execution_count": null,
   "metadata": {},
   "outputs": [],
   "source": [
    "# flux calibrate the spectrum using a photometric magnitude\n",
    "# form SpeX prism spectra these should be filters in the 1-2.5 micron range\n",
    "# such as 2MASS JHKs, UKIDSS JHK, HST F110W/F160W, etc.\n",
    "sp.fluxCalibrate('2MASS J',14.5,absolute=True)  # the \"absolute\" flag indicates this is an absolute magnitude\n",
    "sp.plot()"
   ]
  },
  {
   "cell_type": "code",
   "execution_count": null,
   "metadata": {},
   "outputs": [],
   "source": [
    "# trim the edges\n",
    "sp.trim([0.9,2.3])\n",
    "sp.plot()"
   ]
  },
  {
   "cell_type": "code",
   "execution_count": null,
   "metadata": {},
   "outputs": [],
   "source": [
    "# mask part of the spectrum\n",
    "sp.maskFlux([1.8,2.0])\n",
    "sp.plot()"
   ]
  },
  {
   "cell_type": "code",
   "execution_count": null,
   "metadata": {},
   "outputs": [],
   "source": [
    "# change the wavelength units\n",
    "sp.toWaveUnit(u.Angstrom)\n",
    "sp.plot()"
   ]
  },
  {
   "cell_type": "code",
   "execution_count": null,
   "metadata": {},
   "outputs": [],
   "source": [
    "# change the flux units\n",
    "sp.toFluxUnit(u.W/u.m/u.m/u.Angstrom)\n",
    "sp.plot()"
   ]
  },
  {
   "cell_type": "code",
   "execution_count": null,
   "metadata": {},
   "outputs": [],
   "source": [
    "# reset all your changes to go back to the original spectrum\n",
    "sp.reset()\n",
    "sp.plot()"
   ]
  },
  {
   "cell_type": "markdown",
   "metadata": {},
   "source": [
    "# Spectral Math\n",
    "\n",
    "The Spectrum object takes care of all of the necessary math steps to add, subtract, multiply and divide spectra"
   ]
  },
  {
   "cell_type": "code",
   "execution_count": null,
   "metadata": {},
   "outputs": [],
   "source": [
    "# read in two M-type spectra, normalize them and add them together\n",
    "sp1 = splat.getSpectrum(spt=['M5','M9'],lucky=True)[0]\n",
    "sp2 = splat.getSpectrum(spt=['M5','M9'],lucky=True)[0]\n",
    "sp1.normalize()\n",
    "sp2.normalize()\n",
    "\n",
    "# add together\n",
    "sp3 = sp1+sp2\n",
    "\n",
    "# plot this up using matplotlib\n",
    "plt.plot(sp1.wave,sp1.flux,'b-')\n",
    "plt.plot(sp2.wave,sp2.flux,'g-')\n",
    "plt.plot(sp3.wave,sp3.flux,'k-')\n",
    "plt.legend([sp1.name,sp2.name,'Sum'])\n",
    "plt.ylim([0,2.2])\n",
    "plt.xlim([0.8,2.4])\n",
    "plt.xlabel('Wavelength (micron)')\n",
    "plt.ylabel('Normalized Flux Density')\n"
   ]
  },
  {
   "cell_type": "code",
   "execution_count": null,
   "metadata": {},
   "outputs": [],
   "source": [
    "# read in two M7 spectra, normalize them and subtract them to see differences\n",
    "sp1 = splat.getSpectrum(spt='M7',lucky=True)[0]\n",
    "sp2 = splat.getSpectrum(spt='M7',lucky=True)[0]\n",
    "sp1.normalize()\n",
    "sp2.normalize()\n",
    "\n",
    "# subtract\n",
    "sp3 = sp1-sp2\n",
    "\n",
    "# plot the individual spectra and their difference in two panels\n",
    "plt.subplot(211)\n",
    "plt.plot(sp1.wave,sp1.flux,'b-')\n",
    "plt.plot(sp2.wave,sp2.flux,'g-')\n",
    "plt.ylim([0,1.2])\n",
    "plt.xlim([0.8,2.4])\n",
    "plt.ylabel('Normalized Flux Density')\n",
    "plt.legend([sp1.name,sp2.name])\n",
    "\n",
    "plt.subplot(212)\n",
    "plt.plot(sp3.wave,sp3.flux,'k-')\n",
    "plt.legend(['Difference'])\n",
    "plt.plot([0.8,2.4],[0,0],'k--')\n",
    "plt.fill_between(sp3.wave,sp3.noise,-1.*sp3.noise,color='k',alpha=0.3)\n",
    "plt.ylim([-0.5,0.5])\n",
    "plt.xlim([0.8,2.4])\n",
    "plt.xlabel('Wavelength (micron)')\n",
    "plt.ylabel('Difference')\n"
   ]
  },
  {
   "cell_type": "code",
   "execution_count": null,
   "metadata": {},
   "outputs": [],
   "source": [
    "# fit part of a spectrum to a line and divide this out\n",
    "fit_range = [0.8,1.15]\n",
    "\n",
    "# read in an L dwarf spectrum and trim \n",
    "sp = splat.getSpectrum(spt='L4',snr=40,lucky=True)[0]\n",
    "sp.trim(fit_range)\n",
    "\n",
    "# fit to a line using np.polyfit\n",
    "fit = np.polyfit(sp.wave.value,sp.flux.value,1)\n",
    "\n",
    "# generate a spectrum that is this linear function\n",
    "sp_continuum = splat.Spectrum(wave=sp.wave,flux=np.polyval(fit,sp.wave.value)*sp.flux.unit)\n",
    "\n",
    "# divide out this continuum\n",
    "sp_normalized = sp/sp_continuum\n",
    "\n",
    "# plot the results\n",
    "plt.subplot(211)\n",
    "plt.plot(sp.wave,sp.flux,'k-')\n",
    "plt.plot(sp_continuum.wave,sp_continuum.flux,'g-')\n",
    "plt.ylim([0,np.nanquantile(sp.flux.value,0.98)*1.5])\n",
    "plt.xlim(fit_range)\n",
    "plt.ylabel('Normalized Flux Density')\n",
    "plt.legend([sp.name,'Continuum'])\n",
    "\n",
    "plt.subplot(212)\n",
    "plt.plot(sp_normalized.wave,sp_normalized.flux,'k-')\n",
    "plt.legend(['Continuum-Corrected'])\n",
    "plt.plot(fit_range,[1,1],'k--')\n",
    "plt.ylim([0.5,1.5])\n",
    "plt.xlim(fit_range)\n",
    "plt.xlabel('Wavelength (micron)')\n",
    "plt.ylabel('Ratio')\n"
   ]
  },
  {
   "cell_type": "code",
   "execution_count": null,
   "metadata": {},
   "outputs": [],
   "source": [
    "# Here's a real science case:\n",
    "# we're going to compare the spectrum of a known unresolved binary 2MASS J0518-2828 to a spectral\n",
    "# template constructed from two differently-classified sources.\n",
    "# Read in an L5 dwarf and a T5 dwarf, each with a minimum signal-to-noise and not known to be binary\n",
    "# Scale these to their J-band absolute magnitudes and add them together to get a spectral binary\n",
    "# We're going to use the empirical package in splat to get these absolute magnitudes\n",
    "\n",
    "# relevant information\n",
    "binary_name = 'J0518-2828'\n",
    "pspt = 'L5'\n",
    "sspt = 'T5'\n",
    "phot_filter = '2MASS J'\n",
    "\n",
    "# read in spectrum of known spectral binary\n",
    "sp = splat.getSpectrum(shortname=binary_name)[0]\n",
    "\n",
    "# read in template spectra\n",
    "sp1 = splat.getSpectrum(spt=pspt,snr=20,binary=False,lucky=True)[0]\n",
    "sp2 = splat.getSpectrum(spt=sspt,snr=20,binary=False,lucky=True)[0]\n",
    "\n",
    "# get the right magnitudes from an empirical relation of Filippazzo et al. (2015)\n",
    "# this returns the value and uncertainty\n",
    "mag1 = spem.typeToMag(pspt,phot_filter,set='filippazzo')\n",
    "mag2 = spem.typeToMag(sspt,phot_filter,set='filippazzo')\n",
    "print(mag1,mag2)\n",
    "\n",
    "# scale the spectra\n",
    "sp1.fluxCalibrate(phot_filter,mag1[0],absolute=True)\n",
    "sp2.fluxCalibrate(phot_filter,mag2[0],absolute=True)\n",
    "\n",
    "# add them\n",
    "sp3 = sp1+sp2\n",
    "\n",
    "# normalize original spectrum to match at peak\n",
    "sp.scale(sp3.fluxMax(wrange=[1.25,1.3])/sp.fluxMax(wrange=[1.25,1.3]))\n",
    "\n",
    "# compute the difference\n",
    "spdiff = sp-sp3\n",
    "\n",
    "# visualize the results\n",
    "plt.figure(figsize=[6,10])\n",
    "plt.subplot(211)\n",
    "plt.plot(sp.wave,sp.flux,'k-')\n",
    "plt.plot(sp1.wave,sp1.flux,'m-')\n",
    "plt.plot(sp2.wave,sp2.flux,'b-')\n",
    "plt.plot(sp3.wave,sp3.flux,'g-')\n",
    "plt.legend([binary_name,pspt,sspt,'Combined'])\n",
    "plt.ylim([0,np.nanquantile(sp3.flux.value,0.98)*1.5])\n",
    "plt.xlim([0.8,2.4])\n",
    "plt.ylabel('Normalized Flux Density')\n",
    "\n",
    "plt.subplot(212)\n",
    "plt.plot(spdiff.wave,spdiff.flux,'k-')\n",
    "plt.fill_between(spdiff.wave,spdiff.noise,-1.*spdiff.noise,color='k',alpha=0.3)\n",
    "plt.legend(['Difference','Uncertainty'])\n",
    "plt.plot([0.8,2.4],[0,0],'k--')\n",
    "plt.ylim([x*np.nanquantile(sp3.flux.value,0.98) for x in [-0.5,0.5]])\n",
    "plt.xlim([0.8,2.4])\n",
    "plt.xlabel('Wavelength (micron)')\n",
    "plt.ylabel('Difference')\n"
   ]
  },
  {
   "cell_type": "markdown",
   "metadata": {},
   "source": [
    "# Index measurement\n",
    "\n",
    "SPLAT has built-in functions to do index measurement, including literature-defined index sets and empirical relations to turn these into classifications"
   ]
  },
  {
   "cell_type": "code",
   "execution_count": null,
   "metadata": {},
   "outputs": [],
   "source": [
    "# do a basic index measurement\n",
    "# read in a random T5\n",
    "sp = splat.getSpectrum(spt='T5',lucky=True)[0]\n",
    "\n",
    "# measure the ratio of two regions - first range is numerator second range is denominator\n",
    "ind = splat.measureIndex(sp,[[1.1,1.2],[1.22,1.32]],method='ratio',sample='integrate')\n",
    "print(ind)"
   ]
  },
  {
   "cell_type": "code",
   "execution_count": null,
   "metadata": {},
   "outputs": [],
   "source": [
    "# you can visualize the placement of these indices by setting plot=True\n",
    "# NOTE: this is throwing some errors\n",
    "ind = splat.measureIndex(sp,[[1.1,1.2],[1.22,1.32]],method='ratio',sample='integrate',plot=True)\n"
   ]
  },
  {
   "cell_type": "code",
   "execution_count": null,
   "metadata": {},
   "outputs": [],
   "source": [
    "# measure an index set that is pre-defined in the literature\n",
    "# this returns a dictionary of values\n",
    "splat.measureIndexSet(sp,ref='burgasser',verbose=True)"
   ]
  },
  {
   "cell_type": "code",
   "execution_count": null,
   "metadata": {},
   "outputs": [],
   "source": [
    "# there is a handy information function to find out what index sets are currently included\n",
    "spem.info_indices()"
   ]
  },
  {
   "cell_type": "code",
   "execution_count": null,
   "metadata": {},
   "outputs": [],
   "source": [
    "# you can use these indices to classify an object\n",
    "splat.classifyByIndex(sp,ref='burgasser',verbose=True)"
   ]
  },
  {
   "cell_type": "code",
   "execution_count": null,
   "metadata": {},
   "outputs": [],
   "source": [
    "# indices are also used for gravity classification of young sources\n",
    "sp = splat.getSpectrum(spt='L2',young=True,lucky=True)[0]\n",
    "splat.classifyGravity(sp,verbose=True)"
   ]
  },
  {
   "cell_type": "markdown",
   "metadata": {},
   "source": [
    "# Comparing spectra and spectral classification\n",
    "\n",
    "We often want to compare spectra against each other, either to classify or to fit to models. The main function to do this is splat.compareSpectra, which returns the comparison statistic and optimal scale factor, and has many options for modifying and visualizing the comparison."
   ]
  },
  {
   "cell_type": "code",
   "execution_count": null,
   "metadata": {},
   "outputs": [],
   "source": [
    "# check out the options of compareSpectra\n",
    "splat.compareSpectra?"
   ]
  },
  {
   "cell_type": "code",
   "execution_count": null,
   "metadata": {},
   "outputs": [],
   "source": [
    "# read in M7 and M8 spectra and compare them\n",
    "sp1 = splat.getSpectrum(spt='M7',lucky=True)[0]\n",
    "sp2 = splat.getSpectrum(spt='M8',lucky=True)[0]\n",
    "\n",
    "splat.compareSpectra(sp1,sp2,plot=True)\n"
   ]
  },
  {
   "cell_type": "code",
   "execution_count": null,
   "metadata": {},
   "outputs": [],
   "source": [
    "# limit copmarison to a specific range\n",
    "splat.compareSpectra(sp1,sp2,fit_ranges=[0.8,1.0],plot=True)\n"
   ]
  },
  {
   "cell_type": "code",
   "execution_count": null,
   "metadata": {},
   "outputs": [],
   "source": [
    "# to compare to spectral standards, you can use the built-in list of these standards\n",
    "splat.initializeStandards()  # first read in the standards\n",
    "stdM8 = splat.STDS_DWARF_SPEX['M8.0']  # there are different standard for different instruments\n",
    "splat.compareSpectra(sp2,stdM8,plot=True)\n"
   ]
  },
  {
   "cell_type": "code",
   "execution_count": null,
   "metadata": {},
   "outputs": [],
   "source": [
    "# a more efficient way to accomplish this is to use splat.classifyByStandard which will find the best match\n",
    "splat.classifyByStandard(sp2,plot=True)"
   ]
  },
  {
   "cell_type": "code",
   "execution_count": null,
   "metadata": {},
   "outputs": [],
   "source": [
    "# you can compare to alternate standards as well\n",
    "# this command compares to a suite of subdwarf standards\n",
    "splat.classifyByStandard(sp2,plot=True,sd=True)"
   ]
  },
  {
   "cell_type": "code",
   "execution_count": null,
   "metadata": {},
   "outputs": [],
   "source": [
    "# this command compares to a suite of low gravity standards\n",
    "splat.classifyByStandard(sp2,plot=True,vlg=True)"
   ]
  },
  {
   "cell_type": "code",
   "execution_count": null,
   "metadata": {},
   "outputs": [],
   "source": []
  }
 ],
 "metadata": {
  "kernelspec": {
   "display_name": "Python [conda env:anaconda3]",
   "language": "python",
   "name": "conda-env-anaconda3-py"
  },
  "language_info": {
   "codemirror_mode": {
    "name": "ipython",
    "version": 3
   },
   "file_extension": ".py",
   "mimetype": "text/x-python",
   "name": "python",
   "nbconvert_exporter": "python",
   "pygments_lexer": "ipython3",
   "version": "3.6.8"
  }
 },
 "nbformat": 4,
 "nbformat_minor": 2
}
